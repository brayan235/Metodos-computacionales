{
 "cells": [
  {
   "cell_type": "code",
   "execution_count": 1,
   "metadata": {
    "collapsed": true
   },
   "outputs": [],
   "source": [
    "import numpy as np\n",
    "import math \n",
    "import matplotlib.pyplot as plt\n",
    "get_ipython().magic(u'matplotlib inline')"
   ]
  },
  {
   "cell_type": "code",
   "execution_count": 2,
   "metadata": {
    "collapsed": true
   },
   "outputs": [],
   "source": [
    "#Algoritmos para calcular raices"
   ]
  },
  {
   "cell_type": "code",
   "execution_count": 3,
   "metadata": {
    "collapsed": true
   },
   "outputs": [],
   "source": [
    "#Metodo de biseccion\n",
    "def biseccion(f,a,b,N):\n",
    "    \n",
    "    if f(a)*f(b)>0.0:\n",
    "         print \"No hay raiz en el intervalo dado\"\n",
    "    \n",
    "    for i in xrange(1,N):\n",
    "        pm=(a+b)/2.0\n",
    "        \n",
    "        if f(pm)*f(a)<0.0:\n",
    "            b=pm\n",
    "            print pm\n",
    "        if f(pm)*f(b)<0.0:\n",
    "            a=pm\n",
    "            print pm\n",
    "    return pm  "
   ]
  },
  {
   "cell_type": "code",
   "execution_count": 4,
   "metadata": {
    "collapsed": true
   },
   "outputs": [],
   "source": [
    "#Metodo de Newton-Rhapson\n",
    "def nr(f,df,pin,N):\n",
    "    p=pin\n",
    "    for i in xrange(0,N):\n",
    "        p=p-(f(p)/df(p))\n",
    "        print p\n",
    "    return p"
   ]
  },
  {
   "cell_type": "code",
   "execution_count": 5,
   "metadata": {
    "collapsed": true
   },
   "outputs": [],
   "source": [
    "#Metodo del punto fijo\n",
    "def punto_fijo(f,p0,N):\n",
    "    \n",
    "    g = lambda x: x-f(x)\n",
    "    \n",
    "    for i in xrange(0,N):\n",
    "        p1=g(p0)\n",
    "        p0=p1\n",
    "        print p0\n",
    "    return p0"
   ]
  },
  {
   "cell_type": "code",
   "execution_count": 6,
   "metadata": {
    "collapsed": true
   },
   "outputs": [],
   "source": [
    "#primer punto"
   ]
  },
  {
   "cell_type": "code",
   "execution_count": 7,
   "metadata": {
    "collapsed": false
   },
   "outputs": [],
   "source": [
    "\"\"\"\n",
    "Solucion para la ecuacion de la ecuacion de Kepler, ecuacion \n",
    "de tipo trascendental de alta importancia en astronomia. La solucion\n",
    "se hace para el cometa Beethoven pues su orbita esta casi totalmente\n",
    "sobre la ecliptica i=2.73 grados\n",
    "\"\"\"\n",
    "grad=180.0/np.pi\n",
    "rad=np.pi/180.0\n",
    "#Ecuacion de kepler\n",
    "def ec_kepler(E):\n",
    "    f=E-e*np.sin(E)-M\n",
    "    return f\n",
    "#Derivada ecuacion de kepler\n",
    "def d_kepler(E):\n",
    "    df=1.0-e*np.cos(E)\n",
    "    return df"
   ]
  },
  {
   "cell_type": "code",
   "execution_count": 8,
   "metadata": {
    "collapsed": false
   },
   "outputs": [
    {
     "name": "stdout",
     "output_type": "stream",
     "text": [
      "0.248450010076\n"
     ]
    }
   ],
   "source": [
    "#informacion para la ecuacion\n",
    "tp=2457427.543855121499    #fecha juliana, dias,2016-Feb-09.04385512\n",
    "t=2457508.5000000          #2016-Apr-30 00:00:00\n",
    "periodo=2047.343285965675  #dias\n",
    "e=0.1872699504244361       #ecentricidad\n",
    "a=3.155451391965179        #semieje mayor AU\n",
    "n=2*np.pi/periodo          #mean orbital motion numericamente rad/dia\n",
    "M=n*(t-tp)                 #anomalia media en rad\n",
    "print M\n",
    "#datos tomados de: http://ssd.jpl.nasa.gov/sbdb.cgi#top"
   ]
  },
  {
   "cell_type": "code",
   "execution_count": 9,
   "metadata": {
    "collapsed": false
   },
   "outputs": [
    {
     "name": "stdout",
     "output_type": "stream",
     "text": [
      "0.0\n",
      "0.25\n",
      "0.375\n",
      "0.3125\n",
      "0.28125\n",
      "0.296875\n",
      "0.3046875\n",
      "0.30078125\n",
      "0.302734375\n",
      "E por biseccion =  0.302734375\n",
      "0.294500038866\n",
      "0.302807257413\n",
      "0.304294080481\n",
      "0.304559787914\n",
      "0.304607258956\n",
      "E por punto fijo =  0.304607258956\n",
      "0.30471285853\n",
      "0.304617584586\n",
      "0.304617584275\n",
      "0.304617584275\n",
      "0.304617584275\n",
      "E por Newtom-Rhapson =  0.304617584275\n"
     ]
    }
   ],
   "source": [
    "#Solucion por biseccion\n",
    "E_bic=biseccion(ec_kepler,-0.5,0.5,10)\n",
    "print 'E por biseccion = ',E_bic\n",
    "\n",
    "#Solucion por punto fijo\n",
    "E_pf=punto_fijo(ec_kepler,M,5)\n",
    "print 'E por punto fijo = ',E_pf\n",
    "\n",
    "#Solucion por Newton Rhapson\n",
    "E_nr=nr(ec_kepler,d_kepler,M,5)\n",
    "print 'E por Newtom-Rhapson = ',E_nr\n"
   ]
  },
  {
   "cell_type": "code",
   "execution_count": 10,
   "metadata": {
    "collapsed": false
   },
   "outputs": [
    {
     "data": {
      "text/plain": [
       "'\\nVemos arriba que el metodo de mayor convergencia es el de Newton Rhapson\\n'"
      ]
     },
     "execution_count": 10,
     "metadata": {},
     "output_type": "execute_result"
    }
   ],
   "source": [
    "\"\"\"\n",
    "Vemos arriba que el metodo de mayor convergencia es el de Newton Rhapson\n",
    "\"\"\""
   ]
  },
  {
   "cell_type": "code",
   "execution_count": 11,
   "metadata": {
    "collapsed": true
   },
   "outputs": [],
   "source": [
    "#2 punto, masa de  Gliese 832c"
   ]
  },
  {
   "cell_type": "code",
   "execution_count": 58,
   "metadata": {
    "collapsed": false
   },
   "outputs": [
    {
     "name": "stdout",
     "output_type": "stream",
     "text": [
      "3.2238e+25\n",
      "11161675.0\n"
     ]
    }
   ],
   "source": [
    "#datos\n",
    "ro=18000.0       #Kg/m^3\n",
    "L=6500000.0      #metros\n",
    "m_t=5.97e24      #masa de la Tierra en Kg\n",
    "m_g=5.40*m_t     #masa de Gliese 832c\n",
    "r_t=6378100.0    #radio de la Tierra\n",
    "aprox=1.75*r_t   #aproximacion al radio de Gliese 832c\n",
    "print m_g\n",
    "print aprox"
   ]
  },
  {
   "cell_type": "code",
   "execution_count": 92,
   "metadata": {
    "collapsed": false
   },
   "outputs": [],
   "source": [
    "#Solucion a la integral para la masa\n",
    "def masa(R):\n",
    "    M =( 2*L**3 -L*np.exp(-R/L) * ( R**2 + 2*L*R + 2*L**2) ) * 4.0*np.pi*ro\n",
    "    cero=M\n",
    "    return cero\n",
    "\n",
    "M_g=( 2*L**3 -L*np.exp(-R/L) * ( R**2 + 2*L*R + 2*L**2) ) * 4.0*np.pi*ro\n",
    "\n",
    "def cero(R):\n",
    "    cero=m_g-M_g\n",
    "    return cero\n",
    "#R=1.7967*r_t\n",
    "#M =( -L*np.exp(-R/L)*( R**2 + 2*L*R + 2*L**2) + 2*L**3 ) * 4.0*np.pi*ro\n",
    "#print M,(m_g-M)/m_g*100."
   ]
  },
  {
   "cell_type": "code",
   "execution_count": 99,
   "metadata": {
    "collapsed": false
   },
   "outputs": [
    {
     "data": {
      "text/plain": [
       "<matplotlib.text.Text at 0x7f54f51c6b90>"
      ]
     },
     "execution_count": 99,
     "metadata": {},
     "output_type": "execute_result"
    },
    {
     "data": {
      "image/png": "[encoded data removed]",
      "text/plain": [
       "<matplotlib.figure.Figure at 0x7f54f529f4d0>"
      ]
     },
     "metadata": {},
     "output_type": "display_data"
    }
   ],
   "source": [
    "R=np.linspace(0.,200000000,5000)\n",
    "\n",
    "plt.subplot(1,2,1)\n",
    "plt.plot(R,masa(R),'blue')\n",
    "plt.xlabel('Radio')\n",
    "plt.ylabel('Masa')\n",
    "\n",
    "\n",
    "plt.subplot(1,2,2)\n",
    "plt.plot(R,cero(R),'red')\n",
    "plt.xlabel('Radio')\n"
   ]
  },
  {
   "cell_type": "code",
   "execution_count": 102,
   "metadata": {
    "collapsed": false
   },
   "outputs": [
    {
     "name": "stdout",
     "output_type": "stream",
     "text": [
      "-3.07262579617e+25\n",
      "inf\n",
      "nan\n",
      "nan\n",
      "nan\n",
      "nan\n",
      "nan\n",
      "nan\n",
      "nan\n",
      "nan\n"
     ]
    },
    {
     "name": "stderr",
     "output_type": "stream",
     "text": [
      "/home/main/anaconda2/lib/python2.7/site-packages/ipykernel/__main__.py:3: RuntimeWarning: overflow encountered in exp\n",
      "  app.launch_new_instance()\n",
      "/home/main/anaconda2/lib/python2.7/site-packages/ipykernel/__main__.py:3: RuntimeWarning: invalid value encountered in double_scalars\n",
      "  app.launch_new_instance()\n"
     ]
    },
    {
     "ename": "ValueError",
     "evalue": "The truth value of an array with more than one element is ambiguous. Use a.any() or a.all()",
     "output_type": "error",
     "traceback": [
      "\u001b[1;31m---------------------------------------------------------------------------\u001b[0m",
      "\u001b[1;31mValueError\u001b[0m                                Traceback (most recent call last)",
      "\u001b[1;32m<ipython-input-102-46f3e663dcb6>\u001b[0m in \u001b[0;36m<module>\u001b[1;34m()\u001b[0m\n\u001b[0;32m      1\u001b[0m \u001b[0mradio\u001b[0m\u001b[1;33m=\u001b[0m\u001b[0mpunto_fijo\u001b[0m\u001b[1;33m(\u001b[0m\u001b[0mmasa\u001b[0m\u001b[1;33m,\u001b[0m\u001b[0maprox\u001b[0m\u001b[1;33m,\u001b[0m\u001b[1;36m10\u001b[0m\u001b[1;33m)\u001b[0m\u001b[1;33m\u001b[0m\u001b[0m\n\u001b[1;32m----> 2\u001b[1;33m \u001b[0mradio_2\u001b[0m \u001b[1;33m=\u001b[0m\u001b[0mbiseccion\u001b[0m\u001b[1;33m(\u001b[0m\u001b[0mcero\u001b[0m\u001b[1;33m,\u001b[0m\u001b[1;36m1e7\u001b[0m\u001b[1;33m,\u001b[0m\u001b[1;36m1e7\u001b[0m\u001b[1;33m,\u001b[0m\u001b[1;36m10\u001b[0m\u001b[1;33m)\u001b[0m\u001b[1;33m\u001b[0m\u001b[0m\n\u001b[0m",
      "\u001b[1;32m<ipython-input-3-5474230105fe>\u001b[0m in \u001b[0;36mbiseccion\u001b[1;34m(f, a, b, N)\u001b[0m\n\u001b[0;32m      2\u001b[0m \u001b[1;32mdef\u001b[0m \u001b[0mbiseccion\u001b[0m\u001b[1;33m(\u001b[0m\u001b[0mf\u001b[0m\u001b[1;33m,\u001b[0m\u001b[0ma\u001b[0m\u001b[1;33m,\u001b[0m\u001b[0mb\u001b[0m\u001b[1;33m,\u001b[0m\u001b[0mN\u001b[0m\u001b[1;33m)\u001b[0m\u001b[1;33m:\u001b[0m\u001b[1;33m\u001b[0m\u001b[0m\n\u001b[0;32m      3\u001b[0m \u001b[1;33m\u001b[0m\u001b[0m\n\u001b[1;32m----> 4\u001b[1;33m     \u001b[1;32mif\u001b[0m \u001b[0mf\u001b[0m\u001b[1;33m(\u001b[0m\u001b[0ma\u001b[0m\u001b[1;33m)\u001b[0m\u001b[1;33m*\u001b[0m\u001b[0mf\u001b[0m\u001b[1;33m(\u001b[0m\u001b[0mb\u001b[0m\u001b[1;33m)\u001b[0m\u001b[1;33m>\u001b[0m\u001b[1;36m0.0\u001b[0m\u001b[1;33m:\u001b[0m\u001b[1;33m\u001b[0m\u001b[0m\n\u001b[0m\u001b[0;32m      5\u001b[0m          \u001b[1;32mprint\u001b[0m \u001b[1;34m\"No hay raiz en el intervalo dado\"\u001b[0m\u001b[1;33m\u001b[0m\u001b[0m\n\u001b[0;32m      6\u001b[0m \u001b[1;33m\u001b[0m\u001b[0m\n",
      "\u001b[1;31mValueError\u001b[0m: The truth value of an array with more than one element is ambiguous. Use a.any() or a.all()"
     ]
    }
   ],
   "source": [
    "radio=punto_fijo(masa,aprox,10)\n",
    "radio_2 =biseccion(cero,1e7,1e7,10)"
   ]
  },
  {
   "cell_type": "code",
   "execution_count": null,
   "metadata": {
    "collapsed": true
   },
   "outputs": [],
   "source": []
  }
 ],
 "metadata": {
  "kernelspec": {
   "display_name": "Python 2",
   "language": "python",
   "name": "python2"
  },
  "language_info": {
   "codemirror_mode": {
    "name": "ipython",
    "version": 2
   },
   "file_extension": ".py",
   "mimetype": "text/x-python",
   "name": "python",
   "nbconvert_exporter": "python",
   "pygments_lexer": "ipython2",
   "version": "2.7.11"
  }
 },
 "nbformat": 4,
 "nbformat_minor": 0
}
