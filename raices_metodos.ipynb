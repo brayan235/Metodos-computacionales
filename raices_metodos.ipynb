{
 "cells": [
  {
   "cell_type": "code",
   "execution_count": 1,
   "metadata": {
    "collapsed": true
   },
   "outputs": [],
   "source": [
    "import numpy as np\n",
    "import math "
   ]
  },
  {
   "cell_type": "code",
   "execution_count": 5,
   "metadata": {
    "collapsed": true
   },
   "outputs": [],
   "source": [
    "#Algoritmos para calcular raices"
   ]
  },
  {
   "cell_type": "code",
   "execution_count": 6,
   "metadata": {
    "collapsed": true
   },
   "outputs": [],
   "source": [
    "#Metodo de biseccion\n",
    "def biseccion(f,a,b,pres):\n",
    "    \n",
    "    if f(a)*f(b)>0.0:\n",
    "         print \"No hay raiz en el intervalo dado\"\n",
    "          \n",
    "    iteraciones=math.log(1.0/pres)/math.log(2)\n",
    "    N=int(iteraciones)\n",
    "    \n",
    "    for i in xrange(1,N):\n",
    "        pm=(a+b)/2.0\n",
    "        \n",
    "        if f(pm)*f(a)<0.0:\n",
    "            b=pm\n",
    "        if f(pm)*f(b)<0.0:\n",
    "            a=pm\n",
    "            \n",
    "    return pm  "
   ]
  },
  {
   "cell_type": "code",
   "execution_count": 7,
   "metadata": {
    "collapsed": true
   },
   "outputs": [],
   "source": [
    "#Metodo de Newton-Rhapson\n",
    "def nr(f,df,pin,N):\n",
    "    p=pin\n",
    "    for i in xrange(0,N):\n",
    "        p=p-(f(p)/df(p))\n",
    "        print p\n",
    "    return p"
   ]
  },
  {
   "cell_type": "code",
   "execution_count": 4,
   "metadata": {
    "collapsed": true
   },
   "outputs": [],
   "source": [
    "#Metodo del punto fijo\n",
    "def punto_fijo(f,p0,N):\n",
    "    \n",
    "    g = lambda x: x-f(x)\n",
    "    \n",
    "    for i in xrange(0,N):\n",
    "        p1=g(p0)\n",
    "        p0=p1\n",
    "    return p0"
   ]
  },
  {
   "cell_type": "code",
   "execution_count": null,
   "metadata": {
    "collapsed": true
   },
   "outputs": [],
   "source": []
  }
 ],
 "metadata": {
  "kernelspec": {
   "display_name": "Python 2",
   "language": "python",
   "name": "python2"
  },
  "language_info": {
   "codemirror_mode": {
    "name": "ipython",
    "version": 2
   },
   "file_extension": ".py",
   "mimetype": "text/x-python",
   "name": "python",
   "nbconvert_exporter": "python",
   "pygments_lexer": "ipython2",
   "version": "2.7.11"
  }
 },
 "nbformat": 4,
 "nbformat_minor": 0
}
