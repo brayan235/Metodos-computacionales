{
 "cells": [
  {
   "cell_type": "code",
   "execution_count": 62,
   "metadata": {
    "collapsed": true
   },
   "outputs": [],
   "source": [
    "import numpy as np\n",
    "import math \n",
    "import matplotlib.pyplot as plt\n",
    "get_ipython().magic(u'matplotlib inline')"
   ]
  },
  {
   "cell_type": "code",
   "execution_count": 63,
   "metadata": {
    "collapsed": true
   },
   "outputs": [],
   "source": [
    "#Algoritmos para calcular raices"
   ]
  },
  {
   "cell_type": "code",
   "execution_count": 64,
   "metadata": {
    "collapsed": true
   },
   "outputs": [],
   "source": [
    "#Metodo de biseccion\n",
    "def biseccion(f,a,b,N):\n",
    "    \n",
    "    if f(a)*f(b)>0.0:\n",
    "         print \"No hay raiz en el intervalo dado\"\n",
    "    \n",
    "    for i in xrange(1,N):\n",
    "        pm=(a+b)/2.0\n",
    "        \n",
    "        if f(pm)*f(a)<0.0:\n",
    "            b=pm\n",
    "            print pm\n",
    "        if f(pm)*f(b)<0.0:\n",
    "            a=pm\n",
    "            print pm\n",
    "    return pm  "
   ]
  },
  {
   "cell_type": "code",
   "execution_count": 65,
   "metadata": {
    "collapsed": true
   },
   "outputs": [],
   "source": [
    "#Metodo de Newton-Rhapson\n",
    "def nr(f,df,pin,N):\n",
    "    p=pin\n",
    "    for i in xrange(0,N):\n",
    "        p=p-(f(p)/df(p))\n",
    "        print p\n",
    "    return p"
   ]
  },
  {
   "cell_type": "code",
   "execution_count": 243,
   "metadata": {
    "collapsed": true
   },
   "outputs": [],
   "source": [
    "#Metodo del punto fijo\n",
    "def punto_fijo(f,p0,N):\n",
    "    \n",
    "    g = lambda x: x-f(x)\n",
    "    \n",
    "    for i in xrange(0,N):\n",
    "        p1=g(p0)\n",
    "        p0=p1\n",
    "        print p0\n",
    "    return p0"
   ]
  },
  {
   "cell_type": "code",
   "execution_count": 244,
   "metadata": {
    "collapsed": true
   },
   "outputs": [],
   "source": [
    "#primer punto"
   ]
  },
  {
   "cell_type": "code",
   "execution_count": 245,
   "metadata": {
    "collapsed": false
   },
   "outputs": [],
   "source": [
    "\"\"\"\n",
    "Solucion para la ecuacion de la ecuacion de Kepler, ecuacion \n",
    "de tipo trascendental de alta importancia en astronomia. La solucion\n",
    "se hace para el cometa Beethoven pues su orbita esta casi totalmente\n",
    "sobre la ecliptica i=2.73 grados\n",
    "\"\"\"\n",
    "grad=180.0/np.pi\n",
    "rad=np.pi/180.0\n",
    "#Ecuacion de kepler\n",
    "def ec_kepler(E):\n",
    "    f=E-e*np.sin(E)-M\n",
    "    return f\n",
    "#Derivada ecuacion de kepler\n",
    "def d_kepler(E):\n",
    "    df=1.0-e*np.cos(E)\n",
    "    return df"
   ]
  },
  {
   "cell_type": "code",
   "execution_count": 246,
   "metadata": {
    "collapsed": false
   },
   "outputs": [
    {
     "name": "stdout",
     "output_type": "stream",
     "text": [
      "0.248450010076\n"
     ]
    }
   ],
   "source": [
    "#informacion para la ecuacion\n",
    "tp=2457427.543855121499    #fecha juliana, dias,2016-Feb-09.04385512\n",
    "t=2457508.5000000          #2016-Apr-30 00:00:00\n",
    "periodo=2047.343285965675  #dias\n",
    "e=0.1872699504244361       #ecentricidad\n",
    "a=3.155451391965179        #semieje mayor AU\n",
    "n=2*np.pi/periodo          #mean orbital motion numericamente rad/dia\n",
    "M=n*(t-tp)                 #anomalia media en rad\n",
    "print M\n",
    "#datos tomados de: http://ssd.jpl.nasa.gov/sbdb.cgi#top"
   ]
  },
  {
   "cell_type": "code",
   "execution_count": 247,
   "metadata": {
    "collapsed": false
   },
   "outputs": [
    {
     "name": "stdout",
     "output_type": "stream",
     "text": [
      "0.0\n",
      "0.25\n",
      "0.375\n",
      "0.3125\n",
      "0.28125\n",
      "0.296875\n",
      "0.3046875\n",
      "0.30078125\n",
      "0.302734375\n",
      "E por biseccion =  0.302734375\n",
      "0.294500038866\n",
      "0.302807257413\n",
      "0.304294080481\n",
      "0.304559787914\n",
      "0.304607258956\n",
      "E por punto fijo =  0.304607258956\n",
      "0.30471285853\n",
      "0.304617584586\n",
      "0.304617584275\n",
      "0.304617584275\n",
      "0.304617584275\n",
      "E por Newtom-Rhapson =  0.304617584275\n"
     ]
    }
   ],
   "source": [
    "#Solucion por biseccion\n",
    "E_bic=biseccion(ec_kepler,-0.5,0.5,10)\n",
    "print 'E por biseccion = ',E_bic\n",
    "\n",
    "#Solucion por punto fijo\n",
    "E_pf=punto_fijo(ec_kepler,M,5)\n",
    "print 'E por punto fijo = ',E_pf\n",
    "\n",
    "#Solucion por Newton Rhapson\n",
    "E_nr=nr(ec_kepler,d_kepler,M,5)\n",
    "print 'E por Newtom-Rhapson = ',E_nr\n"
   ]
  },
  {
   "cell_type": "code",
   "execution_count": 248,
   "metadata": {
    "collapsed": false
   },
   "outputs": [
    {
     "data": {
      "text/plain": [
       "'\\nVemos arriba que el metodo de mayor convergencia es el de Newton Rhapson\\n'"
      ]
     },
     "execution_count": 248,
     "metadata": {},
     "output_type": "execute_result"
    }
   ],
   "source": [
    "\"\"\"\n",
    "Vemos arriba que el metodo de mayor convergencia es el de Newton Rhapson\n",
    "\"\"\""
   ]
  },
  {
   "cell_type": "code",
   "execution_count": 249,
   "metadata": {
    "collapsed": true
   },
   "outputs": [],
   "source": [
    "#2 punto, masa de  Gliese 832c"
   ]
  },
  {
   "cell_type": "code",
   "execution_count": 250,
   "metadata": {
    "collapsed": false
   },
   "outputs": [
    {
     "name": "stdout",
     "output_type": "stream",
     "text": [
      "3.2238e+25\n"
     ]
    }
   ],
   "source": [
    "#datos\n",
    "ro=18000.0       #Kg/m^3\n",
    "L=6500000.0      #metros\n",
    "m_t=5.97e24      #masa de la Tierra en Kg\n",
    "m_g=5.40*m_t     #masa de Gliese 832c\n",
    "r_t=6378100.0    #radio de la Tierra\n",
    "aprox=1.75*r_t   #aproximacion al radio de Gliese 832c\n",
    "print m_g"
   ]
  },
  {
   "cell_type": "code",
   "execution_count": 286,
   "metadata": {
    "collapsed": false
   },
   "outputs": [
    {
     "name": "stdout",
     "output_type": "stream",
     "text": [
      "3.22388616651e+25 -0.00267282427017\n"
     ]
    }
   ],
   "source": [
    "#Solucion a la integral\n",
    "def sol(R):\n",
    "    M =( -L*np.exp(-R/L) * ( R**2 + 2*L*R + 2*L**2)+2*L**3 ) * 4.0*np.pi*ro\n",
    "    cero=M-m_g\n",
    "    return cero\n",
    "R=1.7967*r_t\n",
    "M =( -L*np.exp(-R/L)*( R**2 + 2*L*R + 2*L**2) + 2*L**3 ) * 4.0*np.pi*ro\n",
    "print M,(m_g-M)/m_g*100."
   ]
  },
  {
   "cell_type": "code",
   "execution_count": 299,
   "metadata": {
    "collapsed": false
   },
   "outputs": [
    {
     "name": "stdout",
     "output_type": "stream",
     "text": [
      "1.5117420383e+24\n",
      "-9.04876810406e+25\n",
      "inf\n",
      "nan\n",
      "nan\n",
      "nan\n",
      "nan\n",
      "nan\n",
      "nan\n",
      "nan\n"
     ]
    },
    {
     "name": "stderr",
     "output_type": "stream",
     "text": [
      "/home/main/anaconda2/lib/python2.7/site-packages/ipykernel/__main__.py:3: RuntimeWarning: overflow encountered in exp\n",
      "  app.launch_new_instance()\n",
      "/home/main/anaconda2/lib/python2.7/site-packages/ipykernel/__main__.py:3: RuntimeWarning: invalid value encountered in double_scalars\n",
      "  app.launch_new_instance()\n"
     ]
    },
    {
     "data": {
      "text/plain": [
       "<matplotlib.text.Text at 0x7ff5a67b2050>"
      ]
     },
     "execution_count": 299,
     "metadata": {},
     "output_type": "execute_result"
    },
    {
     "data": {
      "image/png": "[encoded data removed]",
      "text/plain": [
       "<matplotlib.figure.Figure at 0x7ff5a6bb3590>"
      ]
     },
     "metadata": {},
     "output_type": "display_data"
    }
   ],
   "source": [
    "radio=punto_fijo(sol,aprox,10)\n",
    "R=np.linspace(0.,20000000,5000)\n",
    "plt.plot(R,sol(R))\n",
    "plt.xlabel('Radio')\n",
    "plt.ylabel('Masa')"
   ]
  }
 ],
 "metadata": {
  "kernelspec": {
   "display_name": "Python 2",
   "language": "python",
   "name": "python2"
  },
  "language_info": {
   "codemirror_mode": {
    "name": "ipython",
    "version": 2
   },
   "file_extension": ".py",
   "mimetype": "text/x-python",
   "name": "python",
   "nbconvert_exporter": "python",
   "pygments_lexer": "ipython2",
   "version": "2.7.11"
  }
 },
 "nbformat": 4,
 "nbformat_minor": 0
}
