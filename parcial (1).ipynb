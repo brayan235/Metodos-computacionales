{
 "cells": [
  {
   "cell_type": "code",
   "execution_count": 169,
   "metadata": {
    "collapsed": true
   },
   "outputs": [],
   "source": [
    "import numpy as np\n",
    "import math\n",
    "import matplotlib.pyplot as plt\n",
    "from numpy import *\n",
    "get_ipython().magic(u'matplotlib inline')"
   ]
  },
  {
   "cell_type": "code",
   "execution_count": 170,
   "metadata": {
    "collapsed": true
   },
   "outputs": [],
   "source": [
    "# 1 punto"
   ]
  },
  {
   "cell_type": "code",
   "execution_count": 171,
   "metadata": {
    "collapsed": true
   },
   "outputs": [],
   "source": [
    "#Metodo de Newton-Rhapson\n",
    "def nr(f,df,pin,N):\n",
    "    p=pin\n",
    "    for i in xrange(0,N):\n",
    "        p=p-(f(p)/df(p))\n",
    "        #print p\n",
    "    return p"
   ]
  },
  {
   "cell_type": "code",
   "execution_count": 172,
   "metadata": {
    "collapsed": true
   },
   "outputs": [],
   "source": [
    "#funcion\n",
    "def ec(x):\n",
    "    ec = np.exp(x)-x-2.0\n",
    "    return ec\n",
    "#derivada\n",
    "def dec(x):\n",
    "    dec=np.exp(x)-1.0\n",
    "    return dec"
   ]
  },
  {
   "cell_type": "code",
   "execution_count": 173,
   "metadata": {
    "collapsed": true
   },
   "outputs": [],
   "source": [
    "#grafica"
   ]
  },
  {
   "cell_type": "code",
   "execution_count": 174,
   "metadata": {
    "collapsed": false
   },
   "outputs": [
    {
     "data": {
      "text/plain": [
       "[<matplotlib.lines.Line2D at 0x7f12a4458d10>]"
      ]
     },
     "execution_count": 174,
     "metadata": {},
     "output_type": "execute_result"
    },
    {
     "data": {
      "image/png": "[encoded data removed]",
      "text/plain": [
       "<matplotlib.figure.Figure at 0x7f12a469ed90>"
      ]
     },
     "metadata": {},
     "output_type": "display_data"
    }
   ],
   "source": [
    "x=np.arange(-4,4.0,0.01)\n",
    "x2=np.arange(-150,150,0.01)\n",
    "plt.subplot(1,2,1)\n",
    "plt.plot(x,ec(x))\n",
    "plt.subplot(1,2,2)\n",
    "plt.plot(x2,ec(x2))"
   ]
  },
  {
   "cell_type": "code",
   "execution_count": 175,
   "metadata": {
    "collapsed": false
   },
   "outputs": [
    {
     "name": "stdout",
     "output_type": "stream",
     "text": [
      "La solucion negativa es:  -1.84140566044\n",
      "La solucion positiva es:  1.14619322062\n",
      "Si da ceros las respuestas son correctas: 0.0 0.0\n"
     ]
    }
   ],
   "source": [
    "#solucion a la ecuacion para la aproximacion de x<0\n",
    "sol_neg=nr(ec,dec,-1.0,10)\n",
    "\n",
    "#solucion a la ecuacion para la aproximacion de x>0\n",
    "sol_pos=nr(ec,dec,1.0,10)\n",
    "\n",
    "#confirmacion de la respuesta:\n",
    "cero1=ec(sol_neg)\n",
    "cero2=ec(sol_neg)\n",
    "\n",
    "print 'La solucion negativa es: ',sol_neg\n",
    "print 'La solucion positiva es: ',sol_pos\n",
    "print 'Si da ceros las respuestas son correctas:',cero1,cero2"
   ]
  },
  {
   "cell_type": "code",
   "execution_count": 176,
   "metadata": {
    "collapsed": false
   },
   "outputs": [
    {
     "name": "stdout",
     "output_type": "stream",
     "text": [
      "La solucion negativa es: -1.84140566044 con 10 iteraciones\n",
      "La primera solucion positiva es:  90.0 con 10 iteraciones\n",
      "La segunda solucion positiva es:  1.14619322062 con 105 iteraciones\n"
     ]
    }
   ],
   "source": [
    "#si se dan como estimativos iniciales numeros mayores aunque\n",
    "#la funcion debe converger se esperaria que lo haga mas lentamente\n",
    "#que con valores mas aproximados a las raices reales.\n",
    "\n",
    "#solucion a la ecuacion para la aproximacion de x=-100\n",
    "sol_neg2=nr(ec,dec,-100,10)\n",
    "\n",
    "#solucion a la ecuacion para la aproximacion de x=100\n",
    "sol_pos2=nr(ec,dec,100,10)\n",
    "sol_pos3=nr(ec,dec,100,105)\n",
    "\n",
    "#confirmacion de la respuesta:\n",
    "ceros1=ec(sol_neg2)\n",
    "ceros2=ec(sol_neg2)\n",
    "\n",
    "print 'La solucion negativa es:',sol_neg2, 'con 10 iteraciones'\n",
    "print 'La primera solucion positiva es: ',sol_pos2,'con 10 iteraciones'\n",
    "print 'La segunda solucion positiva es: ',sol_pos3,'con 105 iteraciones'"
   ]
  },
  {
   "cell_type": "code",
   "execution_count": 177,
   "metadata": {
    "collapsed": true
   },
   "outputs": [],
   "source": [
    "#se ve entonces que converge rapidamente para la solucion negativa\n",
    "#siendo necesario solo 10 iteraciones para obtener una muy buena \n",
    "#aproximacion pero lentamente para la positiva siendo necesarias 105\n",
    "#iteraciones para llegar a una convegencia de la solucion."
   ]
  },
  {
   "cell_type": "code",
   "execution_count": 178,
   "metadata": {
    "collapsed": true
   },
   "outputs": [],
   "source": [
    "#2 punto"
   ]
  },
  {
   "cell_type": "code",
   "execution_count": 179,
   "metadata": {
    "collapsed": true
   },
   "outputs": [],
   "source": [
    "#funcion para el volumen\n",
    "def f(h):\n",
    "    V_cal = L*( 0.5*np.pi*r**2 - r**2*np.arcsin(h/r) - h*(r**2-h**2)**0.5 )\n",
    "    sol=-V_cal+v_dado\n",
    "    return sol"
   ]
  },
  {
   "cell_type": "code",
   "execution_count": 180,
   "metadata": {
    "collapsed": true
   },
   "outputs": [],
   "source": [
    "#Datos\n",
    "L=10.0       #pies\n",
    "r=1.0        #pies\n",
    "v_dado=12.4  #pies3"
   ]
  },
  {
   "cell_type": "code",
   "execution_count": 181,
   "metadata": {
    "collapsed": false
   },
   "outputs": [
    {
     "data": {
      "text/plain": [
       "[<matplotlib.lines.Line2D at 0x7f12a434b510>]"
      ]
     },
     "execution_count": 181,
     "metadata": {},
     "output_type": "execute_result"
    },
    {
     "data": {
      "image/png": "[encoded data removed]",
      "text/plain": [
       "<matplotlib.figure.Figure at 0x7f12a43c1310>"
      ]
     },
     "metadata": {},
     "output_type": "display_data"
    }
   ],
   "source": [
    "#grafica\n",
    "x=np.arange(-r,r,0.01)\n",
    "plt.plot(x,f(x))"
   ]
  },
  {
   "cell_type": "code",
   "execution_count": 182,
   "metadata": {
    "collapsed": true
   },
   "outputs": [],
   "source": [
    "#para el calculo de h se usa el metodo de biseccion:\n",
    "\n",
    "#Metodo de biseccion\n",
    "def biseccion(f,a,b,N):\n",
    "    \n",
    "    if f(a)*f(b)>0.0:\n",
    "         print \"No hay raiz en el intervalo dado\"\n",
    "    \n",
    "    for i in xrange(1,N):\n",
    "        pm=(a+b)/2.0\n",
    "        \n",
    "        if f(pm)*f(a)<0.0:\n",
    "            b=pm\n",
    "            #print pm\n",
    "        if f(pm)*f(b)<0.0:\n",
    "            a=pm\n",
    "            #print pm\n",
    "    return pm  "
   ]
  },
  {
   "cell_type": "code",
   "execution_count": 183,
   "metadata": {
    "collapsed": false
   },
   "outputs": [
    {
     "name": "stdout",
     "output_type": "stream",
     "text": [
      "La altura del agua en el recipiente es: 0.833833965342 ft\n"
     ]
    }
   ],
   "source": [
    "#del grafico se puede pensar que el cero de f esta entre 0 y 0.5 ft:\n",
    "h=biseccion(f,0,0.5,100)\n",
    "print 'La altura del agua en el recipiente es:',r-h,'ft'"
   ]
  },
  {
   "cell_type": "code",
   "execution_count": 184,
   "metadata": {
    "collapsed": true
   },
   "outputs": [],
   "source": [
    "#3 punto"
   ]
  },
  {
   "cell_type": "code",
   "execution_count": 185,
   "metadata": {
    "collapsed": true
   },
   "outputs": [],
   "source": [
    "#parte a"
   ]
  },
  {
   "cell_type": "code",
   "execution_count": 186,
   "metadata": {
    "collapsed": true
   },
   "outputs": [],
   "source": [
    "#polinomios de Lagrange\n",
    "\n",
    "#Coeficientes Lnk\n",
    "def Ln(lx,x,k):\n",
    "    mul=1.0\n",
    "    for i in xrange(0,len(lx)):\n",
    "        if i==k:continue\n",
    "        mul=mul*(x-lx[i])/(lx[k]-lx[i])\n",
    "    return mul\n",
    "\n",
    "#suma\n",
    "def lag(lx,ly,x):\n",
    "    suma=0.0\n",
    "    for i in xrange(0,len(lx)):\n",
    "        suma = suma + ly[i]*Ln(lx,x,i)\n",
    "    return suma"
   ]
  },
  {
   "cell_type": "code",
   "execution_count": 187,
   "metadata": {
    "collapsed": true
   },
   "outputs": [],
   "source": [
    "#Polinomios de Hermite\n",
    "\n",
    "#Diferencias divididas \n",
    "#tomado de : https://github.com/sbustamante/ComputationalMethods\n",
    "\n",
    "def Dh(Zn,Yn,Ypn,j,k):\n",
    "    #If k+j>N\n",
    "    if j+k >= len(Zn):\n",
    "        return 0\n",
    "    #Zeroth divided difference\n",
    "    elif k == 0:\n",
    "        return Yn[j/2]\n",
    "    #First order divided difference (even indexes)\n",
    "    elif k == 1 and j%2 == 0:\n",
    "        return Ypn[j/2]\n",
    "    #If higher divided difference\n",
    "    else:\n",
    "        return (Dh(j+1,k-1,Zn,Yn,Ypn)-Dh(j,k-1,Zn,Yn,Ypn))/(Zn[j+k]-Zn[j])"
   ]
  },
  {
   "cell_type": "code",
   "execution_count": 188,
   "metadata": {
    "collapsed": false
   },
   "outputs": [],
   "source": [
    "#multiplicacion para la suma\n",
    "def mult(Zn,x,k):\n",
    "    mult=1.0\n",
    "    for i in xrange(0,k-1):\n",
    "        mult=mult*(x-Z[i])\n",
    "    return mult\n",
    "\n",
    "#Suma\n",
    "def Her(Zn,Yn,Ypn,x,k):\n",
    "    suma=0.0\n",
    "    for i in xrange(0,k-1):\n",
    "        suma = suma + mult(Zn,x,i)*Dh(Zn,Yn,Ypn,0,i+1)\n",
    "    return suma + Yn[0]"
   ]
  },
  {
   "cell_type": "code",
   "execution_count": 189,
   "metadata": {
    "collapsed": true
   },
   "outputs": [],
   "source": [
    "#funcion y derivada\n",
    "def funcion(x):\n",
    "    f = x - np.cos(x)\n",
    "    return f\n",
    "\n",
    "def dfuncion(x):\n",
    "    df=1+np.sin(x)\n",
    "    return df"
   ]
  },
  {
   "cell_type": "code",
   "execution_count": 200,
   "metadata": {
    "collapsed": false
   },
   "outputs": [
    {
     "name": "stdout",
     "output_type": "stream",
     "text": [
      "13\n",
      "5\n"
     ]
    }
   ],
   "source": [
    "#listas\n",
    "lxr=lx=np.arange(-2*np.pi,2*np.pi,0.1) #para la funcion real\n",
    "lx=np.arange(-2*np.pi,2*np.pi,1)       #para la aproximacion\n",
    "lx2=np.arange(-2*np.pi,2*np.pi,3)    #para la aproximacion 2 \n",
    "ly=funcion(lx)\n",
    "lyp=dfuncion(lx)\n",
    "print len(lx)\n",
    "print len(lx2)\n",
    "#print ly\n",
    "#print lx\n",
    "#print lyp"
   ]
  },
  {
   "cell_type": "code",
   "execution_count": 201,
   "metadata": {
    "collapsed": false
   },
   "outputs": [
    {
     "data": {
      "text/plain": [
       "<matplotlib.text.Text at 0x7f12a3a73510>"
      ]
     },
     "execution_count": 201,
     "metadata": {},
     "output_type": "execute_result"
    },
    {
     "data": {
      "image/png": "[encoded data removed]",
      "text/plain": [
       "<matplotlib.figure.Figure at 0x7f12a41d99d0>"
      ]
     },
     "metadata": {},
     "output_type": "display_data"
    }
   ],
   "source": [
    "#apoximacion por lagrange con 5 puntos\n",
    "plt.plot(lx2,lag(lx,ly,lx2))\n",
    "plt.title('Aproximacion por Lagrangem, n=5')"
   ]
  },
  {
   "cell_type": "code",
   "execution_count": 202,
   "metadata": {
    "collapsed": false
   },
   "outputs": [
    {
     "data": {
      "text/plain": [
       "<matplotlib.text.Text at 0x7f12a3a14b90>"
      ]
     },
     "execution_count": 202,
     "metadata": {},
     "output_type": "execute_result"
    },
    {
     "data": {
      "image/png": "[encoded data removed]",
      "text/plain": [
       "<matplotlib.figure.Figure at 0x7f12a3a30b10>"
      ]
     },
     "metadata": {},
     "output_type": "display_data"
    }
   ],
   "source": [
    "#apoximacion por lagrange con 13 puntos\n",
    "plt.plot(lx,lag(lx,ly,lx))\n",
    "plt.title('Aproximacion por Lagrangem, n=13')"
   ]
  },
  {
   "cell_type": "code",
   "execution_count": 203,
   "metadata": {
    "collapsed": false
   },
   "outputs": [
    {
     "data": {
      "text/plain": [
       "<matplotlib.text.Text at 0x7f12a3951e10>"
      ]
     },
     "execution_count": 203,
     "metadata": {},
     "output_type": "execute_result"
    },
    {
     "data": {
      "image/png": "[encoded data removed]",
      "text/plain": [
       "<matplotlib.figure.Figure at 0x7f12a396bc90>"
      ]
     },
     "metadata": {},
     "output_type": "display_data"
    }
   ],
   "source": [
    "#funcion real\n",
    "plt.plot(lxr,funcion(lxr))\n",
    "plt.title('Funcion real')"
   ]
  },
  {
   "cell_type": "code",
   "execution_count": 204,
   "metadata": {
    "collapsed": false
   },
   "outputs": [],
   "source": [
    "#aproximacion por Hermite\n",
    "#plt.plot(lx,Her(lx,ly,lyp,lx,126))"
   ]
  },
  {
   "cell_type": "code",
   "execution_count": 205,
   "metadata": {
    "collapsed": true
   },
   "outputs": [],
   "source": [
    "#parte b"
   ]
  },
  {
   "cell_type": "code",
   "execution_count": 206,
   "metadata": {
    "collapsed": true
   },
   "outputs": [],
   "source": [
    "#polinomios de Lagrange arreglado para cambiar el grado del polinomio\n",
    "\n",
    "#Coeficientes Lnk\n",
    "def Ln_arr(lx,x,k):\n",
    "    mul=1.0\n",
    "    for i in xrange(0,len(lx)):\n",
    "        if i==k:continue\n",
    "        mul=mul*(x-lx[i])/(lx[k]-lx[i])\n",
    "    return mul\n",
    "\n",
    "#suma\n",
    "def lag_arr(lx,ly,n,x):\n",
    "    suma=0.0\n",
    "    for i in xrange(0,n):\n",
    "        suma = suma + ly[i]*Ln_arr(lx,x,i)\n",
    "    return suma"
   ]
  },
  {
   "cell_type": "code",
   "execution_count": 207,
   "metadata": {
    "collapsed": false
   },
   "outputs": [
    {
     "data": {
      "text/plain": [
       "<matplotlib.text.Text at 0x7f12a36b5190>"
      ]
     },
     "execution_count": 207,
     "metadata": {},
     "output_type": "execute_result"
    },
    {
     "data": {
      "image/png": "[encoded data removed]",
      "text/plain": [
       "<matplotlib.figure.Figure at 0x7f12a3937e90>"
      ]
     },
     "metadata": {},
     "output_type": "display_data"
    }
   ],
   "source": [
    "#graficas\n",
    "plt.subplot(2,2,1)\n",
    "plt.plot(lx,lag_arr(lx,ly,1,lx))\n",
    "plt.title('grado=1')\n",
    "\n",
    "plt.subplot(2,2,2)\n",
    "plt.plot(lx,lag_arr(lx,ly,4,lx))\n",
    "plt.title('grado=4')\n",
    "\n",
    "plt.subplot(2,2,3)\n",
    "plt.plot(lx,lag_arr(lx,ly,8,lx))\n",
    "plt.title('grado=8')\n",
    "\n",
    "plt.subplot(2,2,4)\n",
    "plt.plot(lx,lag_arr(lx,ly,len(lx),lx))\n",
    "plt.title('grado=13')"
   ]
  },
  {
   "cell_type": "code",
   "execution_count": 208,
   "metadata": {
    "collapsed": false
   },
   "outputs": [
    {
     "data": {
      "text/plain": [
       "'\\nEn los graficos podemos concluir que al aumentar el grado n del polinomio y\\nlos valores de la funcion de Lagrange en un intervalo dado este podr\\xc3\\xa1 \\nrepresentar la funcion real de un modo mas completo en el\\nintervalo y con mayor presicion logrando al final representarla \\ntotalmente en todo el intervalo si\\nel grado del polinomio coincide con los elementos de la lista y si esta\\ntiene suficientes puntos para representar la funcion.\\n'"
      ]
     },
     "execution_count": 208,
     "metadata": {},
     "output_type": "execute_result"
    }
   ],
   "source": [
    "\"\"\"\n",
    "En los graficos podemos concluir que al aumentar el grado n del polinomio y\n",
    "los valores de la funcion de Lagrange en un intervalo dado este podrá \n",
    "representar la funcion real de un modo mas completo en el\n",
    "intervalo y con mayor presicion logrando al final representarla \n",
    "totalmente en todo el intervalo si\n",
    "el grado del polinomio coincide con los elementos de la lista y si esta\n",
    "tiene suficientes puntos para representar la funcion.\n",
    "\"\"\""
   ]
  },
  {
   "cell_type": "code",
   "execution_count": null,
   "metadata": {
    "collapsed": true
   },
   "outputs": [],
   "source": []
  }
 ],
 "metadata": {
  "kernelspec": {
   "display_name": "Python 2",
   "language": "python",
   "name": "python2"
  },
  "language_info": {
   "codemirror_mode": {
    "name": "ipython",
    "version": 2
   },
   "file_extension": ".py",
   "mimetype": "text/x-python",
   "name": "python",
   "nbconvert_exporter": "python",
   "pygments_lexer": "ipython2",
   "version": "2.7.11"
  }
 },
 "nbformat": 4,
 "nbformat_minor": 0
}
