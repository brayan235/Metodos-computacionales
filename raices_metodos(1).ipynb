{
 "cells": [
  {
   "cell_type": "code",
   "execution_count": 1,
   "metadata": {
    "collapsed": false
   },
   "outputs": [
    {
     "name": "stderr",
     "output_type": "stream",
     "text": [
      "/home/main/anaconda2/lib/python2.7/site-packages/matplotlib/font_manager.py:273: UserWarning: Matplotlib is building the font cache using fc-list. This may take a moment.\n",
      "  warnings.warn('Matplotlib is building the font cache using fc-list. This may take a moment.')\n"
     ]
    }
   ],
   "source": [
    "import numpy as np\n",
    "import math \n",
    "import matplotlib.pyplot as plt\n",
    "get_ipython().magic(u'matplotlib inline')"
   ]
  },
  {
   "cell_type": "code",
   "execution_count": 152,
   "metadata": {
    "collapsed": false
   },
   "outputs": [
    {
     "data": {
      "text/plain": [
       "'\\nNota:\\nBuenas tardes profesora, yo tuve algunos problemas con la realizacion\\nde la tarea, aunque la subi el dia miercoles el resultado que habia obtenido\\nno era correcto. Trate de solucionar el valor para R (2 punto) por el metodo\\nde punto fijo pero hasta la fecha me sigue arrojando errores que no se como \\nsolucionar por lo cual trate de realizarla con biseccion y con ese metodo si\\nobtube buenos resultados. Subo entonces una correccion de problema anterior \\nespero comprenda, muchas geacias por su atencion.\\n'"
      ]
     },
     "execution_count": 152,
     "metadata": {},
     "output_type": "execute_result"
    }
   ],
   "source": [
    "\"\"\"\n",
    "Nota:\n",
    "Buenas tardes profesora, yo tuve algunos problemas con la realizacion\n",
    "de la tarea, aunque la subi el dia miercoles el resultado que habia obtenido\n",
    "no era correcto. Trate de solucionar el valor para R (2 punto) por el metodo\n",
    "de punto fijo pero hasta la fecha me sigue arrojando errores que no se como \n",
    "solucionar por lo cual trate de realizarla con biseccion y con ese metodo si\n",
    "obtube buenos resultados. Subo entonces una correccion de problema anterior \n",
    "espero comprenda, muchas gracias por su atencion.\n",
    "\"\"\""
   ]
  },
  {
   "cell_type": "code",
   "execution_count": 2,
   "metadata": {
    "collapsed": true
   },
   "outputs": [],
   "source": [
    "#Algoritmos para calcular raices"
   ]
  },
  {
   "cell_type": "code",
   "execution_count": 25,
   "metadata": {
    "collapsed": true
   },
   "outputs": [],
   "source": [
    "#Metodo de biseccion\n",
    "def biseccion(f,a,b,N):\n",
    "    \n",
    "    if f(a)*f(b)>0.0:\n",
    "         print \"No hay raiz en el intervalo dado\"\n",
    "    \n",
    "    for i in xrange(1,N):\n",
    "        pm=(a+b)/2.0\n",
    "        \n",
    "        if f(pm)*f(a)<0.0:\n",
    "            b=pm\n",
    "            #print pm\n",
    "        if f(pm)*f(b)<0.0:\n",
    "            a=pm\n",
    "            #print pm\n",
    "    return pm  "
   ]
  },
  {
   "cell_type": "code",
   "execution_count": 26,
   "metadata": {
    "collapsed": true
   },
   "outputs": [],
   "source": [
    "#Metodo de Newton-Rhapson\n",
    "def nr(f,df,pin,N):\n",
    "    p=pin\n",
    "    for i in xrange(0,N):\n",
    "        p=p-(f(p)/df(p))\n",
    "        #print p\n",
    "    return p"
   ]
  },
  {
   "cell_type": "code",
   "execution_count": 97,
   "metadata": {
    "collapsed": true
   },
   "outputs": [],
   "source": [
    "#Metodo del punto fijo\n",
    "def punto_fijo(f,p0,N):\n",
    "    \n",
    "    g = lambda x: x-f(x)\n",
    "    \n",
    "    for i in xrange(0,N):\n",
    "        p1=g(p0)\n",
    "        p0=p1\n",
    "        #print p0\n",
    "    return p0"
   ]
  },
  {
   "cell_type": "code",
   "execution_count": 98,
   "metadata": {
    "collapsed": true
   },
   "outputs": [],
   "source": [
    "#primer punto"
   ]
  },
  {
   "cell_type": "code",
   "execution_count": 99,
   "metadata": {
    "collapsed": false
   },
   "outputs": [],
   "source": [
    "\"\"\"\n",
    "Solucion para la ecuacion de la ecuacion de Kepler, ecuacion \n",
    "de tipo trascendental de alta importancia en astronomia. La solucion\n",
    "se hace para el cometa Beethoven pues su orbita esta casi totalmente\n",
    "sobre la ecliptica i=2.73 grados\n",
    "\"\"\"\n",
    "grad=180.0/np.pi\n",
    "rad=np.pi/180.0\n",
    "#Ecuacion de kepler\n",
    "def ec_kepler(E):\n",
    "    f=E-e*np.sin(E)-M\n",
    "    return f\n",
    "#Derivada ecuacion de kepler\n",
    "def d_kepler(E):\n",
    "    df=1.0-e*np.cos(E)\n",
    "    return df"
   ]
  },
  {
   "cell_type": "code",
   "execution_count": 100,
   "metadata": {
    "collapsed": false
   },
   "outputs": [
    {
     "name": "stdout",
     "output_type": "stream",
     "text": [
      "0.248450010076\n"
     ]
    }
   ],
   "source": [
    "#informacion para la ecuacion\n",
    "tp=2457427.543855121499    #fecha juliana, dias,2016-Feb-09.04385512\n",
    "t=2457508.5000000          #2016-Apr-30 00:00:00\n",
    "periodo=2047.343285965675  #dias\n",
    "e=0.1872699504244361       #ecentricidad\n",
    "a=3.155451391965179        #semieje mayor AU\n",
    "n=2*np.pi/periodo          #mean orbital motion numericamente rad/dia\n",
    "M=n*(t-tp)                 #anomalia media en rad\n",
    "print M\n",
    "#datos tomados de: http://ssd.jpl.nasa.gov/sbdb.cgi#top"
   ]
  },
  {
   "cell_type": "code",
   "execution_count": 101,
   "metadata": {
    "collapsed": false
   },
   "outputs": [
    {
     "name": "stdout",
     "output_type": "stream",
     "text": [
      "E por biseccion =  0.302734375\n",
      "E por punto fijo =  0.304607258956\n",
      "E por Newtom-Rhapson =  0.304617584275\n"
     ]
    }
   ],
   "source": [
    "#Solucion por biseccion\n",
    "E_bic=biseccion(ec_kepler,-0.5,0.5,10)\n",
    "print 'E por biseccion = ',E_bic\n",
    "\n",
    "#Solucion por punto fijo\n",
    "E_pf=punto_fijo(ec_kepler,M,5)\n",
    "print 'E por punto fijo = ',E_pf\n",
    "\n",
    "#Solucion por Newton Rhapson\n",
    "E_nr=nr(ec_kepler,d_kepler,M,5)\n",
    "print 'E por Newtom-Rhapson = ',E_nr\n"
   ]
  },
  {
   "cell_type": "code",
   "execution_count": 102,
   "metadata": {
    "collapsed": false
   },
   "outputs": [
    {
     "data": {
      "text/plain": [
       "'\\nVemos arriba que el metodo de mayor convergencia es el de Newton Rhapson\\n'"
      ]
     },
     "execution_count": 102,
     "metadata": {},
     "output_type": "execute_result"
    }
   ],
   "source": [
    "\"\"\"\n",
    "Vemos arriba que el metodo de mayor convergencia es el de Newton Rhapson\n",
    "\"\"\""
   ]
  },
  {
   "cell_type": "code",
   "execution_count": 103,
   "metadata": {
    "collapsed": true
   },
   "outputs": [],
   "source": [
    "#2 punto, masa de  Gliese 832c"
   ]
  },
  {
   "cell_type": "code",
   "execution_count": 143,
   "metadata": {
    "collapsed": false
   },
   "outputs": [
    {
     "name": "stdout",
     "output_type": "stream",
     "text": [
      "3.2238e+25\n",
      "11161675.0\n"
     ]
    }
   ],
   "source": [
    "#datos\n",
    "ro=18000.0       #Kg/m^3\n",
    "L=6500000.0      #metros\n",
    "m_t=5.97e24      #masa de la Tierra en Kg\n",
    "m_g=5.40*m_t     #masa de Gliese 832c\n",
    "r_t=6378100.0    #radio de la Tierra\n",
    "aprox=1.75*r_t   #aproximacion al radio de Gliese 832c\n",
    "print m_g\n",
    "print aprox"
   ]
  },
  {
   "cell_type": "code",
   "execution_count": 150,
   "metadata": {
    "collapsed": false
   },
   "outputs": [
    {
     "name": "stdout",
     "output_type": "stream",
     "text": [
      "Por punto fijo r = 4.51157179421e+27\n",
      "Por biseccion r = 11459363.1533\n",
      "-\n",
      "Por punto fijo M_gliese = 1.24237423079e+26\n",
      "Por biseccion M_gliese = 3.2238e+25\n"
     ]
    }
   ],
   "source": [
    "#Solucion a la integral para la masa\n",
    "def sol(R):\n",
    "    M =( 2*L**3 -L*np.exp(-R/L) * ( R**2 + 2*L*R + 2*L**2) ) * 4.0*np.pi*ro\n",
    "    sol=m_g-M\n",
    "    return sol\n",
    "\n",
    "r=punto_fijo(sol,aprox+1000000,50)\n",
    "r_2=biseccion(sol,aprox-1000000,aprox+1000000,50)\n",
    "\n",
    "M_gliese=( 2*L**3 -L*np.exp(-r/L) * ( r**2 + 2*L*r + 2*L**2) ) * 4.0*np.pi*ro\n",
    "M_gliese_2=( 2*L**3 -L*np.exp(-r_2/L) * ( r_2**2 + 2*L*r_2 + 2*L**2) ) * 4.0*np.pi*ro\n",
    "\n",
    "print 'Por punto fijo r =',r\n",
    "print 'Por biseccion r =',r_2\n",
    "print '-'\n",
    "print 'Por punto fijo M_gliese =',M_gliese\n",
    "print 'Por biseccion M_gliese =',M_gliese_2\n",
    "\n",
    "#R=1.7967*r_t\n",
    "#M =( -L*np.exp(-R/L)*( R**2 + 2*L*R + 2*L**2) + 2*L**3 ) * 4.0*np.pi*ro\n",
    "#print M,(m_g-M)/m_g*100."
   ]
  },
  {
   "cell_type": "code",
   "execution_count": 151,
   "metadata": {
    "collapsed": false
   },
   "outputs": [
    {
     "data": {
      "text/plain": [
       "'\\nComparando con los valores aceptados actualmente, m_g=3.2238e+25Kg\\ny r=10778989.0m vemos que el metodo de biseccion arroja valores bastante mas\\naceptables\\n'"
      ]
     },
     "execution_count": 151,
     "metadata": {},
     "output_type": "execute_result"
    }
   ],
   "source": [
    "\"\"\"\n",
    "Comparando con los valores aceptados actualmente, m_g=3.2238e+25Kg\n",
    "y r=10778989.0m vemos que el metodo de biseccion arroja valores bastante mas\n",
    "aceptables\n",
    "\"\"\""
   ]
  }
 ],
 "metadata": {
  "kernelspec": {
   "display_name": "Python 2",
   "language": "python",
   "name": "python2"
  },
  "language_info": {
   "codemirror_mode": {
    "name": "ipython",
    "version": 2
   },
   "file_extension": ".py",
   "mimetype": "text/x-python",
   "name": "python",
   "nbconvert_exporter": "python",
   "pygments_lexer": "ipython2",
   "version": "2.7.11"
  }
 },
 "nbformat": 4,
 "nbformat_minor": 0
}
