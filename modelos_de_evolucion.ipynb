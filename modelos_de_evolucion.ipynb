{
 "cells": [
  {
   "cell_type": "code",
   "execution_count": 522,
   "metadata": {
    "collapsed": false
   },
   "outputs": [],
   "source": [
    "import numpy as np\n",
    "import matplotlib.pyplot as plt\n",
    "%matplotlib inline"
   ]
  },
  {
   "cell_type": "code",
   "execution_count": 523,
   "metadata": {
    "collapsed": false
   },
   "outputs": [
    {
     "name": "stdout",
     "output_type": "stream",
     "text": [
      "[ 1.          1.10517092  1.22140276] [ 0.   0.1  0.2]\n",
      "0.221402881015\n"
     ]
    }
   ],
   "source": [
    "#Metodo de Simpson\n",
    "def Simpson(h,ly):\n",
    "    simpson =  h*( ly[0] + 4.0*ly[1] + ly[-1] )/3.0\n",
    "    return simpson\n",
    "def eu(x):\n",
    "    return np.exp(x)\n",
    "\n",
    "x=np.arange(0,0.3,0.1)\n",
    "ys=eu(x)\n",
    "print ys,x\n",
    "h=0.1\n",
    "print Simpson(0.1,eu(x))"
   ]
  },
  {
   "cell_type": "code",
   "execution_count": 524,
   "metadata": {
    "collapsed": true
   },
   "outputs": [],
   "source": [
    "#Modelos del Universo\n",
    "\n",
    "#Omegas en orden M,R,A\n",
    "omegas=[0.266,8.24e-5,0.734]\n",
    "\n",
    "#Modelo de Einstein\n",
    "def E(a):\n",
    "    p=a**0.5\n",
    "    return p\n",
    "\n",
    "#Modelo de radiaccion dominante\n",
    "def R(a,omegas):\n",
    "    den = ( omegas[1] + a**2.0*(1 - omegas[1]) )**0.5\n",
    "    r=a/den\n",
    "    return r\n",
    "\n",
    "#Modelo WMAP9\n",
    "def WMAP9(a,omegas):\n",
    "    omega = sum(omegas)\n",
    "    t = (1-omega) + omegas[0]*a**(-1) + omegas[1]*a**(-2) + omegas[2]*a**2.0 \n",
    "    q=t**(-0.5)\n",
    "    return q"
   ]
  },
  {
   "cell_type": "code",
   "execution_count": 525,
   "metadata": {
    "collapsed": false
   },
   "outputs": [
    {
     "name": "stdout",
     "output_type": "stream",
     "text": [
      "300\n"
     ]
    }
   ],
   "source": [
    "#listas\n",
    "a=np.arange(1e-4,3,0.01)\n",
    "h=abs(a[1]-a[0])\n",
    "\n",
    "Le=E(a)\n",
    "Lr=R(a,omegas)\n",
    "Lw=WMAP9(a,omegas)\n",
    "#print a\n",
    "#print h\n",
    "print len(a)\n",
    "#print Le,Lr,Lw"
   ]
  },
  {
   "cell_type": "code",
   "execution_count": 526,
   "metadata": {
    "collapsed": false
   },
   "outputs": [
    {
     "name": "stdout",
     "output_type": "stream",
     "text": [
      "100 100 100\n",
      "[ 0.14177447  0.17349352  0.20024984]\n"
     ]
    }
   ],
   "source": [
    "#Organizando los elementos de las listas para usar Simpson\n",
    "Oe = np.reshape(Le, (int(len(a)/3.0), 3))\n",
    "Or = np.reshape(Lr, (int(len(a)/3.0), 3))\n",
    "Ow = np.reshape(Lw, (int(len(a)/3.0), 3))\n",
    "#print Oe,Or,Ow\n",
    "print len(Oe),len(Or),len(Ow)\n",
    "print Le[2:5]\n",
    "#print Oe"
   ]
  },
  {
   "cell_type": "code",
   "execution_count": 527,
   "metadata": {
    "collapsed": false
   },
   "outputs": [
    {
     "name": "stdout",
     "output_type": "stream",
     "text": [
      "3.46421101065 2.99116742077 2.21874267673\n"
     ]
    }
   ],
   "source": [
    "#Integracion\n",
    "lim=int(len(a)/2.0)\n",
    "\n",
    "aE=[]\n",
    "aR=[]\n",
    "aW=[]\n",
    "\n",
    "sumaE=0.0\n",
    "sumaR=0.0\n",
    "sumaW=0.0\n",
    "\n",
    "for i in xrange(0,lim):\n",
    "    sumaE = sumaE + Simpson(h, Le[2*i:2*i+3])\n",
    "    aE.append(sumaE)\n",
    "    \n",
    "    sumaR = sumaR+ Simpson(h, Lr[2*i:2*i+3])\n",
    "    aR.append(sumaR)\n",
    "    \n",
    "    sumaW = sumaW + Simpson(h, Lw[2*i:2*i+3])\n",
    "    aW.append(sumaW)\n",
    "    \n",
    "print sumaE,sumaR,sumaW"
   ]
  },
  {
   "cell_type": "code",
   "execution_count": 528,
   "metadata": {
    "collapsed": false
   },
   "outputs": [
    {
     "data": {
      "text/plain": [
       "<matplotlib.text.Text at 0x7f0a08a9a050>"
      ]
     },
     "execution_count": 528,
     "metadata": {},
     "output_type": "execute_result"
    },
    {
     "data": {
      "image/png": "[encoded data removed]",
      "text/plain": [
       "<matplotlib.figure.Figure at 0x7f0a08be4210>"
      ]
     },
     "metadata": {},
     "output_type": "display_data"
    }
   ],
   "source": [
    "#Graficos\n",
    "va=[]\n",
    "suma=0.0\n",
    "for i in xrange(0,lim):\n",
    "    suma=suma+0.01*2\n",
    "    va.append(suma)\n",
    "\n",
    "plt.plot(va,aE,'black')\n",
    "plt.plot(va,aR,'blue')\n",
    "plt.plot(va,aW,'red')\n",
    "plt.title('t vs a')"
   ]
  },
  {
   "cell_type": "code",
   "execution_count": null,
   "metadata": {
    "collapsed": true
   },
   "outputs": [],
   "source": []
  }
 ],
 "metadata": {
  "kernelspec": {
   "display_name": "Python 2",
   "language": "python",
   "name": "python2"
  },
  "language_info": {
   "codemirror_mode": {
    "name": "ipython",
    "version": 2
   },
   "file_extension": ".py",
   "mimetype": "text/x-python",
   "name": "python",
   "nbconvert_exporter": "python",
   "pygments_lexer": "ipython2",
   "version": "2.7.11"
  }
 },
 "nbformat": 4,
 "nbformat_minor": 0
}
