{
 "metadata": {
  "name": "Untitled64"
 },
 "nbformat": 3,
 "nbformat_minor": 0,
 "worksheets": [
  {
   "cells": [
    {
     "cell_type": "code",
     "collapsed": false,
     "input": "import numpy as np\nimport matplotlib.pyplot as plt\n%matplotlib inline",
     "language": "python",
     "metadata": {},
     "outputs": [],
     "prompt_number": 6
    },
    {
     "cell_type": "code",
     "collapsed": false,
     "input": "#RK4\ndef RK4(f,y0,t0,t1,h):\n    \n    #Datos\n    N = abs(int( (t1-t0)/h ))\n    \n    X = []\n    Y = []\n    Z = []\n    \n    for i in xrange(0,N):\n        #Ks:\n        k0 = f(y0,t0)\n        k1 = f(t0 + 0.5*h , y0 + 0.5*k0*h)\n        k2 = f(t0 + 0.5*h , y0 + 0.5*k1*h)\n        k3 = f(t0 + h , y0 + k2*h)\n        \n        #Solucion\n        y1 = y0 + h*(k0 + 2*k1 + 2*k2 + k3)/6.0\n        X.append(y1[0])\n        Y.append(y1[1])\n        Z.append(y1[2])\n        \n        y0 = y1\n        t0 = t0 + i*h\n        \n    return [X,Y,Z]",
     "language": "python",
     "metadata": {},
     "outputs": [],
     "prompt_number": 8
    },
    {
     "cell_type": "code",
     "collapsed": false,
     "input": "#Atractor de Lorenz\ndef fx(x,y):\n    ",
     "language": "python",
     "metadata": {},
     "outputs": []
    }
   ],
   "metadata": {}
  }
 ]
}