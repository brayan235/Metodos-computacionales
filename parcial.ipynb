{
 "cells": [
  {
   "cell_type": "code",
   "execution_count": 1,
   "metadata": {
    "collapsed": true
   },
   "outputs": [],
   "source": [
    "import numpy as np\n",
    "import math\n",
    "import matplotlib.pyplot as plt\n",
    "from numpy import *\n",
    "get_ipython().magic(u'matplotlib inline')"
   ]
  },
  {
   "cell_type": "code",
   "execution_count": 3,
   "metadata": {
    "collapsed": true
   },
   "outputs": [],
   "source": [
    "# 1 punto"
   ]
  },
  {
   "cell_type": "code",
   "execution_count": 55,
   "metadata": {
    "collapsed": true
   },
   "outputs": [],
   "source": [
    "#Metodo de Newton-Rhapson\n",
    "def nr(f,df,pin,N):\n",
    "    p=pin\n",
    "    for i in xrange(0,N):\n",
    "        p=p-(f(p)/df(p))\n",
    "        #print p\n",
    "    return p"
   ]
  },
  {
   "cell_type": "code",
   "execution_count": 56,
   "metadata": {
    "collapsed": true
   },
   "outputs": [],
   "source": [
    "#funcion\n",
    "def ec(x):\n",
    "    ec = np.exp(x)-x-2.0\n",
    "    return ec\n",
    "#derivada\n",
    "def dec(x):\n",
    "    dec=np.exp(x)-1.0\n",
    "    return dec"
   ]
  },
  {
   "cell_type": "code",
   "execution_count": 57,
   "metadata": {
    "collapsed": true
   },
   "outputs": [],
   "source": [
    "#grafica"
   ]
  },
  {
   "cell_type": "code",
   "execution_count": 64,
   "metadata": {
    "collapsed": false
   },
   "outputs": [
    {
     "data": {
      "text/plain": [
       "[<matplotlib.lines.Line2D at 0x7f86f7af8c50>]"
      ]
     },
     "execution_count": 64,
     "metadata": {},
     "output_type": "execute_result"
    },
    {
     "data": {
      "image/png": "[encoded data removed]",
      "text/plain": [
       "<matplotlib.figure.Figure at 0x7f86f7e99990>"
      ]
     },
     "metadata": {},
     "output_type": "display_data"
    }
   ],
   "source": [
    "x=np.arange(-4,4.0,0.01)\n",
    "x2=np.arange(-150,150,0.01)\n",
    "plt.subplot(1,2,1)\n",
    "plt.plot(x,ec(x))\n",
    "plt.subplot(1,2,2)\n",
    "plt.plot(x2,ec(x2))"
   ]
  },
  {
   "cell_type": "code",
   "execution_count": 59,
   "metadata": {
    "collapsed": false
   },
   "outputs": [
    {
     "name": "stdout",
     "output_type": "stream",
     "text": [
      "La solucion negativa es:  -1.84140566044\n",
      "La solucion positiva es:  1.14619322062\n",
      "Si da ceros las respuestas son correctas: 0.0 0.0\n"
     ]
    }
   ],
   "source": [
    "#solucion a la ecuacion para la aproximacion de x<0\n",
    "sol_neg=nr(ec,dec,-1.0,10)\n",
    "\n",
    "#solucion a la ecuacion para la aproximacion de x>0\n",
    "sol_pos=nr(ec,dec,1.0,10)\n",
    "\n",
    "#confirmacion de la respuesta:\n",
    "cero1=ec(sol_neg)\n",
    "cero2=ec(sol_neg)\n",
    "\n",
    "print 'La solucion negativa es: ',sol_neg\n",
    "print 'La solucion positiva es: ',sol_pos\n",
    "print 'Si da ceros las respuestas son correctas:',cero1,cero2"
   ]
  },
  {
   "cell_type": "code",
   "execution_count": 70,
   "metadata": {
    "collapsed": false
   },
   "outputs": [
    {
     "name": "stdout",
     "output_type": "stream",
     "text": [
      "La solucion negativa es: -1.84140566044 con 10 iteraciones\n",
      "La primera solucion positiva es:  90.0 con 10 iteraciones\n",
      "La segunda solucion positiva es:  1.14619322062 con 105 iteraciones\n"
     ]
    }
   ],
   "source": [
    "#si se dan como estimativos iniciales numeros mayores aunque\n",
    "#la funcion debe converger se esperaria que lo haga mas lentamente\n",
    "#que con valores mas aproximados a las raices reales.\n",
    "\n",
    "#solucion a la ecuacion para la aproximacion de x=-100\n",
    "sol_neg2=nr(ec,dec,-100,10)\n",
    "\n",
    "#solucion a la ecuacion para la aproximacion de x=100\n",
    "sol_pos2=nr(ec,dec,100,10)\n",
    "sol_pos3=nr(ec,dec,100,105)\n",
    "\n",
    "#confirmacion de la respuesta:\n",
    "ceros1=ec(sol_neg2)\n",
    "ceros2=ec(sol_neg2)\n",
    "\n",
    "print 'La solucion negativa es:',sol_neg2, 'con 10 iteraciones'\n",
    "print 'La primera solucion positiva es: ',sol_pos2,'con 10 iteraciones'\n",
    "print 'La segunda solucion positiva es: ',sol_pos3,'con 105 iteraciones'"
   ]
  },
  {
   "cell_type": "code",
   "execution_count": 71,
   "metadata": {
    "collapsed": true
   },
   "outputs": [],
   "source": [
    "#se ve entonces que converge rapidamente para la solucion negativa\n",
    "#siendo necesario solo 10 iteraciones para obtener una muy buena \n",
    "#aproximacion pero lentamente para la positiva siendo necesarias 105\n",
    "#iteraciones para llegar a una convegencia de la solucion."
   ]
  },
  {
   "cell_type": "code",
   "execution_count": 72,
   "metadata": {
    "collapsed": true
   },
   "outputs": [],
   "source": [
    "#2 punto"
   ]
  },
  {
   "cell_type": "code",
   "execution_count": 83,
   "metadata": {
    "collapsed": true
   },
   "outputs": [],
   "source": [
    "#funcion para el volumen\n",
    "def f(h):\n",
    "    V_cal = L*( 0.5*np.pi*r**2 - r**2*np.arcsin(h/r) - h*(r**2-h**2)**0.5 )\n",
    "    sol=-V_cal+v_dado\n",
    "    return sol"
   ]
  },
  {
   "cell_type": "code",
   "execution_count": 84,
   "metadata": {
    "collapsed": true
   },
   "outputs": [],
   "source": [
    "#Datos\n",
    "L=10.0       #pies\n",
    "r=1.0        #pies\n",
    "v_dado=12.4  #pies3"
   ]
  },
  {
   "cell_type": "code",
   "execution_count": 85,
   "metadata": {
    "collapsed": false
   },
   "outputs": [
    {
     "data": {
      "text/plain": [
       "[<matplotlib.lines.Line2D at 0x7f86f779de10>]"
      ]
     },
     "execution_count": 85,
     "metadata": {},
     "output_type": "execute_result"
    },
    {
     "data": {
      "image/png": "[encoded data removed]",
      "text/plain": [
       "<matplotlib.figure.Figure at 0x7f86f7899fd0>"
      ]
     },
     "metadata": {},
     "output_type": "display_data"
    }
   ],
   "source": [
    "#grafica\n",
    "x=np.arange(-r,r,0.01)\n",
    "plt.plot(x,f(x))"
   ]
  },
  {
   "cell_type": "code",
   "execution_count": 82,
   "metadata": {
    "collapsed": true
   },
   "outputs": [],
   "source": [
    "#para el calculo de h se usa el metodo de biseccion:\n",
    "\n",
    "#Metodo de biseccion\n",
    "def biseccion(f,a,b,N):\n",
    "    \n",
    "    if f(a)*f(b)>0.0:\n",
    "         print \"No hay raiz en el intervalo dado\"\n",
    "    \n",
    "    for i in xrange(1,N):\n",
    "        pm=(a+b)/2.0\n",
    "        \n",
    "        if f(pm)*f(a)<0.0:\n",
    "            b=pm\n",
    "            #print pm\n",
    "        if f(pm)*f(b)<0.0:\n",
    "            a=pm\n",
    "            #print pm\n",
    "    return pm  "
   ]
  },
  {
   "cell_type": "code",
   "execution_count": 98,
   "metadata": {
    "collapsed": false
   },
   "outputs": [
    {
     "name": "stdout",
     "output_type": "stream",
     "text": [
      "La altura del agua en el recipiente es: 0.166166034658 ft\n"
     ]
    }
   ],
   "source": [
    "#del grafico se puede pensar que el cero de f esta entre 0 y 0.5 ft:\n",
    "h=biseccion(f,0,0.5,100)\n",
    "print 'La altura del agua en el recipiente es:',h,'ft'"
   ]
  },
  {
   "cell_type": "code",
   "execution_count": 100,
   "metadata": {
    "collapsed": true
   },
   "outputs": [],
   "source": [
    "#3 punto"
   ]
  }
 ],
 "metadata": {
  "kernelspec": {
   "display_name": "Python 2",
   "language": "python",
   "name": "python2"
  },
  "language_info": {
   "codemirror_mode": {
    "name": "ipython",
    "version": 2
   },
   "file_extension": ".py",
   "mimetype": "text/x-python",
   "name": "python",
   "nbconvert_exporter": "python",
   "pygments_lexer": "ipython2",
   "version": "2.7.11"
  }
 },
 "nbformat": 4,
 "nbformat_minor": 0
}
