{
 "cells": [
  {
   "cell_type": "code",
   "execution_count": 103,
   "metadata": {
    "collapsed": false
   },
   "outputs": [],
   "source": [
    "import numpy as np\n",
    "import math\n",
    "import matplotlib.pyplot as plt\n",
    "from numpy import *\n",
    "get_ipython().magic(u'matplotlib inline')"
   ]
  },
  {
   "cell_type": "code",
   "execution_count": 104,
   "metadata": {
    "collapsed": true
   },
   "outputs": [],
   "source": [
    "# 1)."
   ]
  },
  {
   "cell_type": "code",
   "execution_count": 105,
   "metadata": {
    "collapsed": false
   },
   "outputs": [],
   "source": [
    "#funciones para la integracion y metodo para la misma\n",
    "\n",
    "#Primera integral por el metodo de impropias\n",
    "def I_1(u):\n",
    "    a = 0.0\n",
    "    p = 0.5\n",
    "    P_4 = 1.0 - (u-a) + (u-a)**2.0/2.0 - (u-a)**3.0/6.0 + (u-a)**4.0/24.0\n",
    "    den = (u-a)**p\n",
    "    return (np.exp(-u)-P_4) / (den*np.pi**0.5) \n",
    "\n",
    "#Segunda integral por el metodo de impropias\n",
    "def I_2(u):\n",
    "    a = 0.0\n",
    "    p = 0.5\n",
    "    P_4 = 1.0 - (u-a) + (u-a)**2.0/2.0 - (u-a)**3.0/6.0 + (u-a)**4.0/24.0\n",
    "    den = (u-a)**p\n",
    "    return P_4/(den*np.pi**0.5)\n",
    "\n",
    "#Metodo de integracion\n",
    "\n",
    "#Metodo de Simpson\n",
    "def Simpson(h,ly):\n",
    "    simpson =  h*( ly[0] + 4.0*ly[1] + ly[-1] )/3.0\n",
    "    return simpson"
   ]
  },
  {
   "cell_type": "code",
   "execution_count": 106,
   "metadata": {
    "collapsed": false
   },
   "outputs": [],
   "source": [
    "# Funcion de error:\n",
    "def ErrorFunction(x):\n",
    "    #Listas\n",
    "    x_c = x**2.0\n",
    "    xs = np.linspace(1e-5,x_c,10000)\n",
    "\n",
    "    Is1 = I_1(xs)\n",
    "    Is2 = I_2(xs)\n",
    "\n",
    "    #print len(xs)\n",
    "    \n",
    "    #Integracion con Simpson\n",
    "    lim = int(len(xs)/2.0)\n",
    "    h = abs(xs[1]-xs[0])\n",
    "\n",
    "    Sol1 = [] #Solucion a la primera integral\n",
    "    Sol2 = [] #Solucion a la segunda integral\n",
    "    SolT = [] #Solucion total a la integral como la suma de las otras 2\n",
    "\n",
    "    Suma1=0.0\n",
    "    Suma2=0.0\n",
    "    \n",
    "    for i in xrange(0,lim):\n",
    "        Suma1 = Suma1 + Simpson(h, Is1[2*i:2*i+3])\n",
    "        Sol1.append(Suma1)\n",
    "                                   \n",
    "        Suma2 = Suma2 + Simpson(h, Is2[2*i:2*i+3])\n",
    "        Sol2.append(Suma2) \n",
    "\n",
    "    for i in xrange(0,len(Sol1)):\n",
    "        SolT.append(Sol1[i]+Sol2[i])\n",
    "        \n",
    "    print \"El valor de la integral es \", SolT[-1]\n",
    "    return SolT"
   ]
  },
  {
   "cell_type": "code",
   "execution_count": null,
   "metadata": {
    "collapsed": false
   },
   "outputs": [],
   "source": []
  },
  {
   "cell_type": "code",
   "execution_count": 107,
   "metadata": {
    "collapsed": false
   },
   "outputs": [
    {
     "name": "stdout",
     "output_type": "stream",
     "text": [
      "El valor de la integral es  1.0319336258\n"
     ]
    },
    {
     "data": {
      "text/plain": [
       "<matplotlib.text.Text at 0x7f4b4b0db310>"
      ]
     },
     "execution_count": 107,
     "metadata": {},
     "output_type": "execute_result"
    },
    {
     "data": {
      "image/png": "[encoded data removed]",
      "text/plain": [
       "<matplotlib.figure.Figure at 0x7f4b4b7c6490>"
      ]
     },
     "metadata": {},
     "output_type": "display_data"
    }
   ],
   "source": [
    "#Graficos\n",
    "\n",
    "#Grafico para x=3 de la solucion de la integral\n",
    "Sol = ErrorFunction(3)\n",
    "\n",
    "# Valores en x para graficar\n",
    "vx = [] \n",
    "suma = 0.0\n",
    "for i in xrange(0,len(Sol)):\n",
    "    suma = suma + 0.0001*2\n",
    "    vx.append(suma)   \n",
    "#print len(vx)   \n",
    "\n",
    "#plt.figure( figsize=(5,5) )\n",
    "plt.plot(vx,Sol)\n",
    "plt.title(\"X=3\")"
   ]
  },
  {
   "cell_type": "code",
   "execution_count": 108,
   "metadata": {
    "collapsed": false
   },
   "outputs": [
    {
     "data": {
      "text/plain": [
       "'\\nVemos entonces en la grafica para x=3 que los valores de la integral tienden hacia un\\nvalor constante de 1.\\n'"
      ]
     },
     "execution_count": 108,
     "metadata": {},
     "output_type": "execute_result"
    }
   ],
   "source": [
    "\"\"\"\n",
    "Vemos entonces en la grafica para x=3 que los valores de la integral tienden hacia un\n",
    "valor constante de 1.\n",
    "\"\"\""
   ]
  },
  {
   "cell_type": "code",
   "execution_count": 109,
   "metadata": {
    "collapsed": true
   },
   "outputs": [],
   "source": [
    "#2 Punto: The Fick's law "
   ]
  },
  {
   "cell_type": "code",
   "execution_count": 110,
   "metadata": {
    "collapsed": false
   },
   "outputs": [
    {
     "name": "stdout",
     "output_type": "stream",
     "text": [
      "[1.1180339887498949, 0.59761430466719678, 0.35355339059327373]\n"
     ]
    }
   ],
   "source": [
    "# Se hacen los calculos para x=1\n",
    "D = 1 # m/s**2\n",
    "n_0 = 1\n",
    "\n",
    "Ts = [0.2,0.7,2]\n",
    "Xs = []\n",
    "\n",
    "for t in Ts:\n",
    "    Xs.append(1.0/(2*np.sqrt(D*t)))\n",
    "print Xs"
   ]
  },
  {
   "cell_type": "code",
   "execution_count": 111,
   "metadata": {
    "collapsed": false
   },
   "outputs": [
    {
     "name": "stdout",
     "output_type": "stream",
     "text": [
      "El valor de la integral es  0.88496603921\n",
      "El valor de la integral es  0.598660024164\n",
      "El valor de la integral es  0.379390527813\n"
     ]
    }
   ],
   "source": [
    "#Densidades\n",
    "n_1 = ErrorFunction(Xs[0])\n",
    "n_2 = ErrorFunction(Xs[1])\n",
    "n_3 = ErrorFunction(Xs[2])\n",
    "unos = np.ones(len(n_1))\n",
    "\n",
    "N_1 = []\n",
    "N_2 = []\n",
    "N_3 = []\n",
    "\n",
    "for i in xrange(0,len(unos)):\n",
    "    N_1.append(unos[i]-n_1[i])\n",
    "    N_2.append(unos[i]-n_2[i])\n",
    "    N_3.append(unos[i]-n_3[i])"
   ]
  },
  {
   "cell_type": "code",
   "execution_count": 112,
   "metadata": {
    "collapsed": false
   },
   "outputs": [
    {
     "data": {
      "text/plain": [
       "<matplotlib.text.Text at 0x7f4b4afd5990>"
      ]
     },
     "execution_count": 112,
     "metadata": {},
     "output_type": "execute_result"
    },
    {
     "data": {
      "image/png": "[encoded data removed]",
      "text/plain": [
       "<matplotlib.figure.Figure at 0x7f4b4b15e250>"
      ]
     },
     "metadata": {},
     "output_type": "display_data"
    }
   ],
   "source": [
    "#Graficos\n",
    "plt.plot(vx,N_1,'blue')\n",
    "plt.plot(vx,N_2,'red')\n",
    "plt.plot(vx,N_3,'green')\n",
    "\n",
    "plt.title('t = 2, 0.7, 0.2 Seg')\n",
    "plt.xlabel('Posicion')\n",
    "plt.ylabel('Densidad')"
   ]
  },
  {
   "cell_type": "code",
   "execution_count": null,
   "metadata": {
    "collapsed": true
   },
   "outputs": [],
   "source": []
  }
 ],
 "metadata": {
  "kernelspec": {
   "display_name": "Python 2",
   "language": "python",
   "name": "python2"
  },
  "language_info": {
   "codemirror_mode": {
    "name": "ipython",
    "version": 2
   },
   "file_extension": ".py",
   "mimetype": "text/x-python",
   "name": "python",
   "nbconvert_exporter": "python",
   "pygments_lexer": "ipython2",
   "version": "2.7.11"
  }
 },
 "nbformat": 4,
 "nbformat_minor": 0
}
