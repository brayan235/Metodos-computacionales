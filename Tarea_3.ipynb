{
 "cells": [
  {
   "cell_type": "code",
   "execution_count": 1,
   "metadata": {
    "collapsed": false
   },
   "outputs": [],
   "source": [
    "import numpy as np\n",
    "import math\n",
    "import matplotlib.pyplot as plt\n",
    "from numpy import *\n",
    "get_ipython().magic(u'matplotlib inline')"
   ]
  },
  {
   "cell_type": "code",
   "execution_count": 2,
   "metadata": {
    "collapsed": true
   },
   "outputs": [],
   "source": [
    "# 1)."
   ]
  },
  {
   "cell_type": "code",
   "execution_count": 3,
   "metadata": {
    "collapsed": false
   },
   "outputs": [],
   "source": [
    "#funciones para la integracion y metodo para la misma\n",
    "\n",
    "#Primera integral por el metodo de impropias\n",
    "def I_1(u):\n",
    "    a = 0.0\n",
    "    p = 0.5\n",
    "    P_4 = 1.0 - (u-a) + (u-a)**2.0/2.0 - (u-a)**3.0/6.0 + (u-a)**4.0/24.0\n",
    "    den = (u-a)**p\n",
    "    return (np.exp(-u)-P_4) / (den*np.pi**0.5) \n",
    "\n",
    "#Segunda integral por el metodo de impropias\n",
    "def I_2(u):\n",
    "    a = 0.0\n",
    "    p = 0.5\n",
    "    P_4 = 1.0 - (u-a) + (u-a)**2.0/2.0 - (u-a)**3.0/6.0 + (u-a)**4.0/24.0\n",
    "    den = (u-a)**p\n",
    "    return P_4/(den*np.pi**0.5)\n",
    "\n",
    "#Metodo de integracion\n",
    "\n",
    "#Metodo de Simpson\n",
    "def Simpson(h,ly):\n",
    "    simpson =  h*( ly[0] + 4.0*ly[1] + ly[-1] )/3.0\n",
    "    return simpson"
   ]
  },
  {
   "cell_type": "code",
   "execution_count": 14,
   "metadata": {
    "collapsed": false
   },
   "outputs": [],
   "source": [
    "def ErrorFunction(x):\n",
    "    #Listas\n",
    "    x_c = x**2.0\n",
    "    xs = np.arange(1e-5,x_c,0.0001)\n",
    "\n",
    "    Is1 = I_1(xs)\n",
    "    Is2 = I_2(xs)\n",
    "\n",
    "    #print len(xs)\n",
    "    \n",
    "    #Integracion con Simpson\n",
    "    lim = int(len(xs)/2.0)\n",
    "    h = abs(xs[1]-xs[0])\n",
    "\n",
    "    Sol1 = [] #Solucion a la primera integral\n",
    "    Sol2 = [] #Solucion a la segunda integral\n",
    "    SolT = [] #Solucion total a la integral como la suma de las otras 2\n",
    "\n",
    "    Suma1=0.0\n",
    "    Suma2=0.0\n",
    "    \n",
    "    for i in xrange(0,lim):\n",
    "        Suma1 = Suma1 + Simpson(h, Is1[2*i:2*i+3])\n",
    "        Sol1.append(Suma1)\n",
    "                                   \n",
    "        Suma2 = Suma2 + Simpson(h, Is2[2*i:2*i+3])\n",
    "        Sol2.append(Suma2) \n",
    "\n",
    "    for i in xrange(0,len(Sol1)):\n",
    "        SolT.append(Sol1[i]+Sol2[i])\n",
    "        \n",
    "    print \"El valor de la integral es \", SolT[-1]\n",
    "    return SolT"
   ]
  },
  {
   "cell_type": "code",
   "execution_count": null,
   "metadata": {
    "collapsed": false
   },
   "outputs": [],
   "source": [
    "#Integracion con Simpson\n",
    "lim = int(len(xs)/2.0)\n",
    "h = abs(xs[1]-xs[0])\n",
    "\n",
    "Sol1 = [] #Solucion a la primera integral\n",
    "Sol2 = [] #Solucion a la segunda integral\n",
    "SolT = [] #Solucion total a la integral como la suma de las otras 2\n",
    "\n",
    "Suma1=0.0\n",
    "Suma2=0.0\n",
    "\n",
    "for i in xrange(0,lim):\n",
    "    Suma1 = Suma1 + Simpson(h, Is1[2*i:2*i+3])\n",
    "    Sol1.append(Suma1)\n",
    "                                   \n",
    "    Suma2 = Suma2 + Simpson(h, Is2[2*i:2*i+3])\n",
    "    Sol2.append(Suma2) \n",
    "\n",
    "for i in xrange(0,len(Sol1)):\n",
    "    SolT.append(Sol1[i]+Sol2[i])\n",
    "    \n",
    "#print len(SolT)"
   ]
  },
  {
   "cell_type": "code",
   "execution_count": 16,
   "metadata": {
    "collapsed": false
   },
   "outputs": [
    {
     "name": "stdout",
     "output_type": "stream",
     "text": [
      "El valor de la integral es  0.840771673016\n"
     ]
    },
    {
     "data": {
      "text/plain": [
       "[<matplotlib.lines.Line2D at 0x7f063dd9e090>]"
      ]
     },
     "execution_count": 16,
     "metadata": {},
     "output_type": "execute_result"
    },
    {
     "data": {
      "image/png": "[encoded data removed]",
      "text/plain": [
       "<matplotlib.figure.Figure at 0x7f063e0479d0>"
      ]
     },
     "metadata": {},
     "output_type": "display_data"
    }
   ],
   "source": [
    "#Graficos\n",
    "#Grafico para x=1 de la solucion de la integral\n",
    "Sol = ErrorFunction(1)\n",
    "\n",
    "# Valores en x para graficar\n",
    "vx = [] \n",
    "suma = 0.0\n",
    "for i in xrange(0,len(Sol)):\n",
    "    suma = suma + 0.01*2\n",
    "    vx.append(suma)\n",
    "    \n",
    "#plt.figure( figsize=(5,5) )\n",
    "plt.plot(vx,Sol)"
   ]
  },
  {
   "cell_type": "code",
   "execution_count": 79,
   "metadata": {
    "collapsed": true
   },
   "outputs": [],
   "source": [
    "#2 Punto The Fick's law "
   ]
  },
  {
   "cell_type": "code",
   "execution_count": null,
   "metadata": {
    "collapsed": true
   },
   "outputs": [],
   "source": []
  }
 ],
 "metadata": {
  "kernelspec": {
   "display_name": "Python 2",
   "language": "python",
   "name": "python2"
  },
  "language_info": {
   "codemirror_mode": {
    "name": "ipython",
    "version": 2
   },
   "file_extension": ".py",
   "mimetype": "text/x-python",
   "name": "python",
   "nbconvert_exporter": "python",
   "pygments_lexer": "ipython2",
   "version": "2.7.11"
  }
 },
 "nbformat": 4,
 "nbformat_minor": 0
}
