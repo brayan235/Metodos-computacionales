{
 "cells": [
  {
   "cell_type": "code",
   "execution_count": 154,
   "metadata": {
    "collapsed": true
   },
   "outputs": [],
   "source": [
    "import numpy as np\n",
    "import math \n",
    "import matplotlib.pyplot as plt\n",
    "get_ipython().magic(u'matplotlib inline')"
   ]
  },
  {
   "cell_type": "code",
   "execution_count": 155,
   "metadata": {
    "collapsed": false
   },
   "outputs": [],
   "source": [
    "def Ln(lx,x,k):\n",
    "    mul=1.0\n",
    "    for i in xrange(0,len(lx)):\n",
    "        if i==k:continue\n",
    "        mul=mul*(x-lx[i])/(lx[k]-lx[i])\n",
    "    return mul"
   ]
  },
  {
   "cell_type": "code",
   "execution_count": 156,
   "metadata": {
    "collapsed": true
   },
   "outputs": [],
   "source": [
    "def lag(lx,ly,x):\n",
    "    suma=0.0\n",
    "    for i in xrange(0,len(lx)):\n",
    "        suma = suma + ly[i]*Ln(lx,x,i)\n",
    "    return suma"
   ]
  },
  {
   "cell_type": "code",
   "execution_count": 157,
   "metadata": {
    "collapsed": false
   },
   "outputs": [],
   "source": [
    "lx=[2,4,7,10]\n",
    "ly=[6,12,28,40]"
   ]
  },
  {
   "cell_type": "code",
   "execution_count": 158,
   "metadata": {
    "collapsed": false
   },
   "outputs": [
    {
     "data": {
      "text/plain": [
       "[<matplotlib.lines.Line2D at 0x7f727acfa350>]"
      ]
     },
     "execution_count": 158,
     "metadata": {},
     "output_type": "execute_result"
    },
    {
     "data": {
      "image/png": "[encoded data removed]",
      "text/plain": [
       "<matplotlib.figure.Figure at 0x7f727adf30d0>"
      ]
     },
     "metadata": {},
     "output_type": "display_data"
    }
   ],
   "source": [
    "lag(lx,ly,8)\n",
    "x=np.arange(2,9,1)\n",
    "plt.plot(x,lag(lx,ly,x))"
   ]
  },
  {
   "cell_type": "code",
   "execution_count": 178,
   "metadata": {
    "collapsed": false
   },
   "outputs": [],
   "source": [
    "#diferencias divididas \n",
    "def D(lx,ly,i,k):\n",
    "    #para no salirse del arreglo de x y y \n",
    "    if i+1>len(lx):\n",
    "        return 0.0\n",
    "    #por definicion D_0[i] es y[i] \n",
    "    elif k==0:\n",
    "        return ly[i]\n",
    "    #la funcion se auto llama\n",
    "    else:\n",
    "        return ( D(lx,ly,i+1,k-1) - D(lx,ly,i,k-1) )/( lx[i+1] - lx[i] )"
   ]
  },
  {
   "cell_type": "code",
   "execution_count": 196,
   "metadata": {
    "collapsed": false
   },
   "outputs": [],
   "source": [
    "#polinomio\n",
    "\n",
    "#producros para la suma\n",
    "def mul(lx,x,k):\n",
    "    mul=1.0\n",
    "    for i in xrange(0,k-1):\n",
    "        mul=mul*(x-lx[i])\n",
    "    return mul\n",
    "\n",
    "#suma\n",
    "def pol(lx,ly,x):\n",
    "    suma=0.0\n",
    "    for i in xrange(1,len(lx)):\n",
    "        suma=suma+D(lx,ly,0,i)*mul(lx,x,i+1)\n",
    "    return ly[0]+suma"
   ]
  },
  {
   "cell_type": "code",
   "execution_count": 198,
   "metadata": {
    "collapsed": false
   },
   "outputs": [
    {
     "data": {
      "text/plain": [
       "-66.0"
      ]
     },
     "execution_count": 198,
     "metadata": {},
     "output_type": "execute_result"
    }
   ],
   "source": [
    "pol(lx,ly,10)"
   ]
  },
  {
   "cell_type": "code",
   "execution_count": null,
   "metadata": {
    "collapsed": true
   },
   "outputs": [],
   "source": []
  }
 ],
 "metadata": {
  "kernelspec": {
   "display_name": "Python 2",
   "language": "python",
   "name": "python2"
  },
  "language_info": {
   "codemirror_mode": {
    "name": "ipython",
    "version": 2
   },
   "file_extension": ".py",
   "mimetype": "text/x-python",
   "name": "python",
   "nbconvert_exporter": "python",
   "pygments_lexer": "ipython2",
   "version": "2.7.11"
  }
 },
 "nbformat": 4,
 "nbformat_minor": 0
}
