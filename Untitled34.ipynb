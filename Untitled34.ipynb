{
 "cells": [
  {
   "cell_type": "code",
   "execution_count": 3,
   "metadata": {
    "collapsed": true
   },
   "outputs": [],
   "source": [
    "import numpy as np"
   ]
  },
  {
   "cell_type": "code",
   "execution_count": 80,
   "metadata": {
    "collapsed": true
   },
   "outputs": [],
   "source": [
    "#derivadas para puntos medios\n",
    "\n",
    "#Derivada de 1 orden\n",
    "def der_1_medio(y,i,h):\n",
    "    return ( y[i+1] - y[i-1] ) / (2.*h)\n",
    "\n",
    "#Derivada de 2 orden\n",
    "def der_2_medio(y,i,h):\n",
    "    return ( y[i+1]+y[i-1]+y[i] )/h**2.0"
   ]
  },
  {
   "cell_type": "code",
   "execution_count": 81,
   "metadata": {
    "collapsed": true
   },
   "outputs": [],
   "source": [
    "#funcion en x:\n",
    "\n",
    "def x(alfa,beta,a):\n",
    "    rad=np.pi/180.0\n",
    "    tan = np.tan(beta*rad) / ( np.tan(beta*rad) - np.tan(alfa*rad) )\n",
    "    return a*tan\n",
    "\n",
    "#funcion de y:\n",
    "def y(alfa,beta,a):\n",
    "    rad=np.pi/180.0\n",
    "    tan = np.tan(beta*rad)*np.tan(alfa*rad) / ( np.tan(beta*rad) - np.tan(alfa*rad) )\n",
    "    return a*tan"
   ]
  },
  {
   "cell_type": "code",
   "execution_count": 82,
   "metadata": {
    "collapsed": true
   },
   "outputs": [],
   "source": [
    "#calculos"
   ]
  },
  {
   "cell_type": "code",
   "execution_count": 87,
   "metadata": {
    "collapsed": false
   },
   "outputs": [
    {
     "name": "stdout",
     "output_type": "stream",
     "text": [
      "185.684247502 315.6702796\n",
      "204.466558223 347.970745556\n",
      "35.8604896391 28.8065861713\n"
     ]
    }
   ],
   "source": [
    "#velocidad \n",
    "ts=np.array([10,12,14])\n",
    "h=1.0\n",
    "a=500.0\n",
    "\n",
    "alpa=np.array([50.80,50.06,53.34,53.01,52.83,52.72,52.64])\n",
    "beta=np.array([65.59,64.69,63.62,62.91,62.67,62.03,61.65])\n",
    "X = x(alpa,beta,a)\n",
    "Y = y(alpa,beta,a)\n",
    "\n",
    "\n",
    "VX = []\n",
    "VY = []\n",
    "VT = []\n",
    "\n",
    "for i in xrange(1,len(ts)+1):\n",
    "    vx=der_1_medio(X,i,h)\n",
    "    VX.append(vx)\n",
    "    \n",
    "    vy=der_1_medio(Y,i,h)\n",
    "    VY.append(vy)\n",
    "    \n",
    "    vt = ( vx**2.0 + vy**2.0 )**0.5\n",
    "    VT.append(vt)\n",
    "    \n",
    "    print vx,vy"
   ]
  },
  {
   "cell_type": "code",
   "execution_count": 84,
   "metadata": {
    "collapsed": true
   },
   "outputs": [],
   "source": [
    "#aceleracion"
   ]
  },
  {
   "cell_type": "code",
   "execution_count": 86,
   "metadata": {
    "collapsed": false
   },
   "outputs": [
    {
     "name": "stdout",
     "output_type": "stream",
     "text": [
      "[6081.1855420625525, 6886.7378118207153, 7698.2382764365293]\n"
     ]
    }
   ],
   "source": [
    "AX = []\n",
    "AY = []\n",
    "AT = []\n",
    "\n",
    "for i in xrange(1,len(ts)+1):\n",
    "    ax=der_2_medio(X,i,h)\n",
    "    AX.append(ax)\n",
    "    \n",
    "    ay=der_2_medio(Y,i,h)\n",
    "    AY.append(ay)\n",
    "    \n",
    "    at = ( ax**2.0 + ay**2.0 )**0.5\n",
    "    AT.append(at)\n",
    "    \n",
    "print AT"
   ]
  },
  {
   "cell_type": "code",
   "execution_count": null,
   "metadata": {
    "collapsed": true
   },
   "outputs": [],
   "source": []
  }
 ],
 "metadata": {
  "kernelspec": {
   "display_name": "Python 2",
   "language": "python",
   "name": "python2"
  },
  "language_info": {
   "codemirror_mode": {
    "name": "ipython",
    "version": 2
   },
   "file_extension": ".py",
   "mimetype": "text/x-python",
   "name": "python",
   "nbconvert_exporter": "python",
   "pygments_lexer": "ipython2",
   "version": "2.7.6"
  }
 },
 "nbformat": 4,
 "nbformat_minor": 0
}
