#Seleccionando orbital phase
lim=int(len(F1)/3.)
lim2=int(len(RV)/3.)

OF = []
RI = []

for i in xrange(0,lim):
    of = F1[3*i]
    OF.append(of)
    
    ri = F1[3*i+1]
    RI.append(ri)
                
#Seleccionando Velocidad radial
RV1 = []
RV2 = []

for i in xrange(0,lim2):
    rv1 = RV[3*i]
    RV1.append(rv1)
    
    rv2 = RV[3*i+1]
    RV2.append(rv2)
    

for i in xrange(len(OF)):
    if OF[i]==-0.02266:
        l1 = i

l1
#print len(OF),len(RI)
#print len(RV1),len(RV2)







plt.figure(figsize=(19,4))
plt.plot(RI[:l1])
plt.title('Orbital Phase and Relative intensity')
plt.xlabel('Time (s)')
plt.ylabel('Relative intensity')





plt.figure(figsize=(19,4))
plt.plot(RI[l1:],'bo')
plt.xlim(0,1620)
plt.title('Orbital Phase and Relative intensity')
plt.xlabel('Time(s)')
plt.ylabel('Relative intensity')






def f0(x,as,bs,cs):
    return as*np.cos(bs*x+cs)

popt,pcov = curve_fit(f0,np.array(RI[0:1600]),np.array(RI[]))




#Graficos de velocidad

ext1 = RV1[0]
ext2 = RV1[-1]

plt.figure(figsize=(15,4))
plt.plot(RV1,RV2,'bo')
plt.xlabel('Time(JD)')
plt.ylabel('Radial Speed (Km/s)')
#plt.xlim(51300,51600)





def f(x,a,b,c):
    return a*np.sin(b*x + c)

for i in xrange(len(RV1)):
    if RV1[i]==51355.8437:
        l2 = i
for i in xrange(len(RV1)):
    if RV1[i]==51507.3474:
        l3 = i    
print l2
print l3

popt,pcov = curve_fit(f,np.array(RV1[l2:l3]),np.array(RV2[l2:l3]))
a = popt[0]
b = popt[1]
c = popt[2]

print a,b,c






a=coes[0]
b=coes[1]
c=coes[2]
ts = np.linspace(51355.0,51507.34,100)
Rvs = np.array(RV1[l2:l3])
fs =f(Rvs,a,b,c)

print len(fs)
print len(RV1[l2:l3])


plt.figure(figsize=(15,6))
plt.plot(RV1,RV2,'bo',color='red',label='Puntos')
plt.plot(Rvs, fs,'--',label='Ajuste')
plt.xlabel('Time(JD)')
plt.ylabel('Radial Speed (Km/s)')
plt.xlim(51350,51500)
plt.ylim(-17,6)
plt.legend()
