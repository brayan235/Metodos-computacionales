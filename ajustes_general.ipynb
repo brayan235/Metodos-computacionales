{
 "metadata": {
  "name": "ajustes_general"
 },
 "nbformat": 3,
 "nbformat_minor": 0,
 "worksheets": [
  {
   "cells": [
    {
     "cell_type": "code",
     "collapsed": false,
     "input": "import numpy as np",
     "language": "python",
     "metadata": {},
     "outputs": [],
     "prompt_number": 1
    },
    {
     "cell_type": "code",
     "collapsed": false,
     "input": "def Sol(xi,yi,n):\n    #xi y yi se pasan como np.array\n    #Matriz y vector y solucion\n    M = []\n    b = []\n    \n    for i in xrange(0,n):\n        #Filas y columnas:\n        for j in xrange(0,n):\n            Suma = sum(xi**(j+i))\n            M.append(Suma)\n            \n        #Vector b:    \n        Sum = sum(yi*xi**i)\n        b.append(Sum)\n            \n    #Matriz A y vector\n    M = np.array(M)\n    A = np.reshape(M,(n,n))\n    A = np.matrix(A)\n    b = np.array(b)    \n    \n    #Solucionando\n    Sol = b.dot(A)\n    \n    return Sol",
     "language": "python",
     "metadata": {},
     "outputs": [],
     "prompt_number": 18
    },
    {
     "cell_type": "code",
     "collapsed": false,
     "input": "",
     "language": "python",
     "metadata": {},
     "outputs": [],
     "prompt_number": 14
    }
   ],
   "metadata": {}
  }
 ]
}