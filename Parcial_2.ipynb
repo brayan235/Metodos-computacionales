{
 "cells": [
  {
   "cell_type": "code",
   "execution_count": 97,
   "metadata": {
    "collapsed": false
   },
   "outputs": [],
   "source": [
    "import numpy as np\n",
    "import scipy as sp\n",
    "from scipy import linalg as lg\n",
    "from scipy import integrate\n",
    "import matplotlib.pyplot as plt\n",
    "get_ipython().magic(u'matplotlib inline')"
   ]
  },
  {
   "cell_type": "code",
   "execution_count": 98,
   "metadata": {
    "collapsed": true
   },
   "outputs": [],
   "source": [
    "# 1 punto"
   ]
  },
  {
   "cell_type": "code",
   "execution_count": 99,
   "metadata": {
    "collapsed": false
   },
   "outputs": [],
   "source": [
    "#Funciones necesarias\n",
    "#Nota: Angulos en radianes y se usa el S.I\n",
    "\n",
    "#Tiempo a partir del angulo en radianes\n",
    "def T(Angulo):\n",
    "    tiempo = 3.0/(500.0*np.pi)*Angulo\n",
    "    return tiempo\n",
    "\n",
    "#Posicion:\n",
    "def X(t,R=0.09):\n",
    "    Teta = 500*np.pi/3.0 # Velocidad angular en rad/seg\n",
    "    Pos = ( np.cos(Teta*t) + ( 2.5**2 - np.sin(Teta*t)**2 )**0.5 )*R\n",
    "    return Pos\n",
    "\n",
    "#Derivadas\n",
    "\n",
    "#Derivada de 2 orden para puntos medios\n",
    "def der_2_medio(y,i,h):\n",
    "    return ( y[i+1] + y[i-1] - 2*y[i] )/h**2.0\n",
    "\n",
    "#Derivada de 2 orden para puntos extremos\n",
    "def der_2_ext(y,i,h):\n",
    "    return ( y[i+2] - 2*y[i+1] + y[i] )/h**2.0"
   ]
  },
  {
   "cell_type": "code",
   "execution_count": 100,
   "metadata": {
    "collapsed": false
   },
   "outputs": [],
   "source": [
    "#Listas\n",
    "\n",
    "#Angulos desde 0 hasta 360 grados (un ciclo completo) (en radianes)\n",
    "Os = []                         \n",
    "for i in xrange(0,73):\n",
    "    Rad = np.pi/180.0 #En radianes\n",
    "    Os.append(5*Rad*i)\n",
    "Tetas = np.array(Os)\n",
    "\n",
    "#Tiempos y h\n",
    "Ts = T(Tetas)\n",
    "h = abs(Ts[1]-Ts[0])\n",
    "\n",
    "#Posiciones para cada tiempo\n",
    "Ps = X(Ts)\n",
    "#print len(Tetas),len(Ts),len(Ps)"
   ]
  },
  {
   "cell_type": "code",
   "execution_count": 101,
   "metadata": {
    "collapsed": false
   },
   "outputs": [],
   "source": [
    "#Calculo de la aceleracion\n",
    "\n",
    "A = []\n",
    "A.append(der_2_ext(Ps,0,h)) # Aceleracion inicial\n",
    "\n",
    "for i in xrange(1,len(Ts)-1):\n",
    "    Acel = der_2_medio(Ps,i,h)\n",
    "    A.append(Acel)\n",
    "#print \"Las aceleraciones para cada tiempo son: \", A"
   ]
  },
  {
   "cell_type": "code",
   "execution_count": 102,
   "metadata": {
    "collapsed": false
   },
   "outputs": [
    {
     "data": {
      "text/plain": [
       "<matplotlib.text.Text at 0x7f06ada6d790>"
      ]
     },
     "execution_count": 102,
     "metadata": {},
     "output_type": "execute_result"
    },
    {
     "data": {
      "image/png": "[encoded data removed]",
      "text/plain": [
       "<matplotlib.figure.Figure at 0x7f06b7fa26d0>"
      ]
     },
     "metadata": {},
     "output_type": "display_data"
    }
   ],
   "source": [
    "#Grafico\n",
    "plt.plot(Ts[:len(Ts)-1],A)\n",
    "plt.title('A(t) Para un ciclo')\n",
    "plt.xlabel('T(s)')\n",
    "plt.ylabel('Aceleracion(m/s**2)')"
   ]
  },
  {
   "cell_type": "code",
   "execution_count": 103,
   "metadata": {
    "collapsed": false
   },
   "outputs": [
    {
     "data": {
      "text/plain": [
       "'\\nVemos entonces que durante medio ciclo la aceleracion aumenta hasta un valor y baja un poco pero luego repite\\neste comportamiento para el otro medio ciclo pero con signo (sentido) contrario\\n'"
      ]
     },
     "execution_count": 103,
     "metadata": {},
     "output_type": "execute_result"
    }
   ],
   "source": [
    "\"\"\"\n",
    "Vemos entonces que durante medio ciclo la aceleracion aumenta hasta un valor y baja un poco pero luego repite\n",
    "este comportamiento para el otro medio ciclo pero con signo (sentido) contrario\n",
    "\"\"\""
   ]
  },
  {
   "cell_type": "code",
   "execution_count": 104,
   "metadata": {
    "collapsed": true
   },
   "outputs": [],
   "source": [
    "# 2 Punto"
   ]
  },
  {
   "cell_type": "code",
   "execution_count": 105,
   "metadata": {
    "collapsed": false
   },
   "outputs": [],
   "source": [
    "#Matrix del sistema de ecuaciones y vector b (Ax=b)\n",
    "def Matrix(R,r):\n",
    "    M = np.matrix([[ 1.0,0.0,1.0,0.0,1.0,0.0,0.0,0.0,0.0,0.0,0.0,0.0,-1.0],\n",
    "                   [-1.0,1.0,0.0,0.0,0.0,0.0,0.0,-1.0,0.0,0.0,0.0,0.0,0.0],\n",
    "                   [0.0,-1.0,0.0,1.0,0.0,-1.0,0.0,0.0,0.0,0.0,0.0,0.0,0.0],\n",
    "                   [0.0,0.0,-1.0,-1.0,0.0,0.0,-1.0,0.0,0.0,0.0,0.0,0.0,0.0],\n",
    "                   [0.0,0.0,0.0,0.0,-1.0,0.0,0.0,0.0,1.0,0.0,0.0,1.0,0.0],\n",
    "                   [0.0,0.0,0.0,0.0,0.0,0.0,0.0,1.0,-1.0,0.0,1.0,0.0,0.0],\n",
    "                   [0.0,0.0,0.0,0.0,0.0,1.0,0.0,0.0,0.0,-1.0,-1.0,0.0,1.0],\n",
    "                   [-1.0,0.0,0.0,0.0,1.0,0.0,0.0,1.0,1.0,0.0,0.0,0.0,0.0],\n",
    "                   [0.0,1.0,0.0,0.0,0.0,-1.0,0.0,1.0,0.0,0.0,-1.0,0.0,0.0],\n",
    "                   [0.0,0.0,0.0,-1.0,0.0,-1.0,1.0,0.0,0.0,-1.0,0.0,0.0,0.0],\n",
    "                   [0.0,0.0,r/R,0.0,-1.0,0.0,-1.0,0.0,0.0,0.0,0.0,-1.0,0.0],\n",
    "                   [-1.0,-1.0,r/R,-1.0,0.0,0.0,0.0,0.0,0.0,0.0,0.0,0.0,0.0],\n",
    "                   [0.0,0.0,0.0,0.0,1.0,0.0,0.0,0.0,1.0,0.0,1.0,0.0,0.0]])\n",
    "    return M\n",
    "\n",
    "b = np.array([0.0,0.0,0.0,0.0,0.0,0.0,0.0,0.0,0.0,0.0,0.0,0.0,1])"
   ]
  },
  {
   "cell_type": "code",
   "execution_count": 106,
   "metadata": {
    "collapsed": false
   },
   "outputs": [],
   "source": [
    "#Matrices para varios r\n",
    "R = 1.0\n",
    "V = 1.0\n",
    "r = np.arange(0.0,R+0.1,0.1)\n",
    "\n",
    "A = []\n",
    "S = []\n",
    "x_13 = []\n",
    "I_13 = []\n",
    "R_eq = []\n",
    "\n",
    "#Aderiendo matrices A_i para cada r a el vector de matrices A\n",
    "for i in xrange(0,len(r)):\n",
    "    A_i = Matrix(R,r[i])\n",
    "    A_i = np.matrix(A_i)\n",
    "    A.append(A_i)\n",
    "\n",
    "#Soluciones\n",
    "for i in xrange(len(A)):\n",
    "    S_i = b.dot(A[i].I)\n",
    "    S.append(S_i)\n",
    "\n",
    "#Tomando la solucion para x_13 y convirtiendola en la respectiva I_13\n",
    "for i in xrange(len(S)):\n",
    "    XS = S[i][0,12]\n",
    "    IS = XS*V/R\n",
    "    x_13.append(XS)\n",
    "    I_13.append(IS)\n",
    "    R_eq.append(V/IS)"
   ]
  },
  {
   "cell_type": "code",
   "execution_count": 107,
   "metadata": {
    "collapsed": false
   },
   "outputs": [
    {
     "name": "stdout",
     "output_type": "stream",
     "text": [
      "La resistencia equivalente para r=R es  0.833333333333\n"
     ]
    },
    {
     "data": {
      "text/plain": [
       "<matplotlib.text.Text at 0x7f06adbaa710>"
      ]
     },
     "execution_count": 107,
     "metadata": {},
     "output_type": "execute_result"
    },
    {
     "data": {
      "image/png": "[encoded data removed]",
      "text/plain": [
       "<matplotlib.figure.Figure at 0x7f06adb0dfd0>"
      ]
     },
     "metadata": {},
     "output_type": "display_data"
    }
   ],
   "source": [
    "#Resultados\n",
    "\n",
    "#R_eq para r=R\n",
    "R_f = R_eq[-1]\n",
    "print \"La resistencia equivalente para r=R es \",R_f\n",
    "\n",
    "#Grafico\n",
    "plt.plot(r,R_eq)\n",
    "plt.title(\"R_eq vs r\")\n",
    "plt.xlabel(\"r(Om)\")\n",
    "plt.ylabel(\"R_eq(Om)\")"
   ]
  },
  {
   "cell_type": "code",
   "execution_count": 108,
   "metadata": {
    "collapsed": false
   },
   "outputs": [
    {
     "data": {
      "text/plain": [
       "'\\nVemos entonces que a medida que r aumenta la resistencia equivalente tambien lo hace.\\nCuando r=R se obtiene que R_eq = 0.833333333333 (independientemente de R) que es igual a 5/6.\\n'"
      ]
     },
     "execution_count": 108,
     "metadata": {},
     "output_type": "execute_result"
    }
   ],
   "source": [
    "\"\"\"\n",
    "Vemos entonces que a medida que r aumenta la resistencia equivalente tambien lo hace.\n",
    "Cuando r=R se obtiene que R_eq = 0.833333333333 (independientemente de R) que es igual a 5/6.\n",
    "\"\"\""
   ]
  },
  {
   "cell_type": "code",
   "execution_count": 109,
   "metadata": {
    "collapsed": true
   },
   "outputs": [],
   "source": [
    "# 3 punto"
   ]
  },
  {
   "cell_type": "code",
   "execution_count": 110,
   "metadata": {
    "collapsed": false
   },
   "outputs": [],
   "source": [
    "#Metodos de integracion\n",
    "\n",
    "#Metodo de Gauss\n",
    "def I_g(f,a,b):\n",
    "    Suma1 = 0.5*(b-a)*f( 0.5*(b-a)*(-1/3**0.5) + 0.5*(b+a) ) \n",
    "    Suma2 = 0.5*(b-a)*f( 0.5*(b-a)*(1./3**0.5) + 0.5*(b+a) ) \n",
    "    return Suma1 + Suma2\n",
    "\n",
    "#Simpson\n",
    "def Simpson(h,ly):\n",
    "    simpson =  h*( ly[0] + 4.0*ly[1] + ly[-1] )/3.0\n",
    "    return simpson\n",
    "\n",
    "#Regla compuesta del trapecio (Formula dada en el repositorio de Sebastian)\n",
    "def Trapecio(f,a,b,N):\n",
    "    #Caracteristicas de la suma\n",
    "    h = (b-a)/(1.0*N)\n",
    "    lim = int(N)\n",
    "    \n",
    "    #Elementos en x en los cuales se evalua la funcion a integrar\n",
    "    l_x = np.linspace(a,b,N)\n",
    "    \n",
    "    #Suma\n",
    "    sumat = 0.0\n",
    "    for i in xrange(1,lim-1):\n",
    "        sumat = sumat + f(l_x[i])\n",
    "        \n",
    "    return 0.5*h*( 2*sumat + f(l_x[0]) + f(l_x[-1]) )"
   ]
  },
  {
   "cell_type": "code",
   "execution_count": 111,
   "metadata": {
    "collapsed": true
   },
   "outputs": [],
   "source": [
    "#Funciones a integrar\n",
    "def f_1(x):\n",
    "    return x**2*np.log(x)\n",
    "def f_2(x):\n",
    "    return x**2*np.exp(-x)\n",
    "def f_3(x):\n",
    "    return 2/(x**2-4.0)\n",
    "def f_4(x):\n",
    "    return np.exp(3*x)*np.sin(2*x)\n",
    "\n",
    "#Limites de integracion\n",
    "a = [1.0,0.0,0.0,0.0]\n",
    "b = [1.5,1.0,0.35,np.pi/4.0]"
   ]
  },
  {
   "cell_type": "code",
   "execution_count": 116,
   "metadata": {
    "collapsed": false
   },
   "outputs": [
    {
     "name": "stdout",
     "output_type": "stream",
     "text": [
      "Gaus : 0.192268706371 0.159410430966 -0.176818989455 2.59132471565\n",
      "Simp : 0.196878463886 0.0821625021438 -0.255205337466 1.70147002657\n",
      "Trap : 0.188428765786 0.157403249836 -0.173284007702 2.53747821369\n",
      "Real : 0.192259357733 0.160602794143 -0.176820020122 2.58862863251\n"
     ]
    }
   ],
   "source": [
    "#Integracion por Gauss\n",
    "I_1_g = I_g(f_1,a[0],b[0])\n",
    "I_2_g = I_g(f_2,a[1],b[1])\n",
    "I_3_g = I_g(f_3,a[2],b[2])\n",
    "I_4_g = I_g(f_4,a[3],b[3])\n",
    "\n",
    "#Integracion por Simpson\n",
    "\n",
    "#Listas en x para cada funcion para usar en Simpson\n",
    "x1 = np.linspace(a[0],b[0],100)\n",
    "x2 = np.linspace(a[1],b[1],100)\n",
    "x3 = np.linspace(a[2],b[2],100)\n",
    "x4 = np.linspace(a[3],b[3],100)\n",
    "\n",
    "lim=int(len(x1)/2.0)\n",
    "h=abs(x1[1]-x1[0])\n",
    "\n",
    "#Listas de los valores de cada funcion en cada x\n",
    "l1 = f_1(x1)\n",
    "l2 = f_2(x2)\n",
    "l3 = f_3(x3)\n",
    "l4 = f_4(x4)\n",
    "\n",
    "#Almacenamiento de la integracion\n",
    "s1 = []\n",
    "s2 = []\n",
    "s3 = []\n",
    "s4 = []\n",
    "\n",
    "#Integracion\n",
    "suma1 = 0.0\n",
    "suma2 = 0.0\n",
    "suma3 = 0.0\n",
    "suma4 = 0.0\n",
    "\n",
    "for i in xrange(0,lim):\n",
    "    suma1 = suma1 + Simpson(h, l1[2*i:2*i+3])\n",
    "    s1.append(suma1)\n",
    "    \n",
    "    suma2 = suma2 + Simpson(h, l2[2*i:2*i+3])\n",
    "    s2.append(suma2)\n",
    "    \n",
    "    suma3 = suma3 + Simpson(h, l3[2*i:2*i+3])\n",
    "    s3.append(suma3)\n",
    "    \n",
    "    suma4 = suma4 + Simpson(h, l4[2*i:2*i+3])\n",
    "    s4.append(suma4)\n",
    "    \n",
    "#Integracion por trapecio\n",
    "N = lim\n",
    "T1 = Trapecio(f_1,a[0],b[0],N)\n",
    "T2 = Trapecio(f_2,a[1],b[1],N)\n",
    "T3 = Trapecio(f_3,a[2],b[2],N)\n",
    "T4 = Trapecio(f_4,a[3],b[3],N)\n",
    "\n",
    "#Integracion usando la libreria QUADPACK\n",
    "R1 = sp.integrate.quad(f_1,a[0],b[0])\n",
    "R2 = sp.integrate.quad(f_2,a[1],b[1])\n",
    "R3 = sp.integrate.quad(f_3,a[2],b[2])\n",
    "R4 = sp.integrate.quad(f_4,a[3],b[3])\n",
    "        \n",
    "print \"Gaus :\", I_1_g,I_2_g,I_3_g,I_4_g\n",
    "print \"Simp :\", s1[-1],s2[-1],s3[-1],s4[-1]\n",
    "print \"Trap :\", T1,T2,T3,T4\n",
    "print \"Real :\",R1[0],R2[0],R3[0],R4[0]"
   ]
  },
  {
   "cell_type": "code",
   "execution_count": 123,
   "metadata": {
    "collapsed": false
   },
   "outputs": [
    {
     "name": "stdout",
     "output_type": "stream",
     "text": [
      "Errores Gauss: 9.34863812155e-06 -0.00119236317641 1.03066687726e-06 0.00269608314775\n",
      "Errores Simps: 0.00461910615369 -0.078440291999 -0.0783853173444 -0.887158605932\n",
      "Errores Trape: -0.00383059194648 -0.00319954430644 0.00353601242009 -0.0511504188136\n"
     ]
    }
   ],
   "source": [
    "#Errores\n",
    "\n",
    "#Gauss\n",
    "Eg1 = I_1_g - R1[0]\n",
    "Eg2 = I_2_g - R2[0]\n",
    "Eg3 = I_3_g - R3[0]\n",
    "Eg4 = I_4_g - R4[0]\n",
    "\n",
    "#Simpson\n",
    "Es1 = s1[-1] - R1[0]\n",
    "Es2 = s2[-1] - R2[0]\n",
    "Es3 = s3[-1] - R3[0]\n",
    "Es4 = s4[-1] - R4[0]\n",
    "\n",
    "#Trapecio\n",
    "Et1 = T1 - R1[0]\n",
    "Et2 = T2 - R2[0]\n",
    "Et3 = T3 - R3[0]\n",
    "Et4 = T4 - R4[0]\n",
    "\n",
    "print \"Errores Gauss:\",Eg1,Eg2,Eg3,Eg4\n",
    "print \"Errores Simps:\",Es1,Es2,Es3,Es4\n",
    "print \"Errores Trape:\",Et1,Et2,Et3,Et4"
   ]
  },
  {
   "cell_type": "code",
   "execution_count": null,
   "metadata": {
    "collapsed": true
   },
   "outputs": [],
   "source": []
  }
 ],
 "metadata": {
  "kernelspec": {
   "display_name": "Python 2",
   "language": "python",
   "name": "python2"
  },
  "language_info": {
   "codemirror_mode": {
    "name": "ipython",
    "version": 2
   },
   "file_extension": ".py",
   "mimetype": "text/x-python",
   "name": "python",
   "nbconvert_exporter": "python",
   "pygments_lexer": "ipython2",
   "version": "2.7.11"
  }
 },
 "nbformat": 4,
 "nbformat_minor": 0
}
