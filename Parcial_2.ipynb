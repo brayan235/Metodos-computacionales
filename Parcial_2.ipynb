{
 "cells": [
  {
   "cell_type": "code",
   "execution_count": 1,
   "metadata": {
    "collapsed": false
   },
   "outputs": [
    {
     "name": "stderr",
     "output_type": "stream",
     "text": [
      "/home/main/anaconda2/lib/python2.7/site-packages/matplotlib/font_manager.py:273: UserWarning: Matplotlib is building the font cache using fc-list. This may take a moment.\n",
      "  warnings.warn('Matplotlib is building the font cache using fc-list. This may take a moment.')\n"
     ]
    }
   ],
   "source": [
    "import numpy as np\n",
    "import scipy as sp\n",
    "from scipy import linalg as lg\n",
    "import matplotlib.pyplot as plt\n",
    "get_ipython().magic(u'matplotlib inline')"
   ]
  },
  {
   "cell_type": "code",
   "execution_count": 2,
   "metadata": {
    "collapsed": true
   },
   "outputs": [],
   "source": [
    "# 1 punto"
   ]
  },
  {
   "cell_type": "code",
   "execution_count": 3,
   "metadata": {
    "collapsed": false
   },
   "outputs": [],
   "source": [
    "#Funciones necesarias\n",
    "#Nota: Angulos en radianes y se usa el S.I\n",
    "\n",
    "#Tiempo a partir del angulo en radianes\n",
    "def T(Angulo):\n",
    "    tiempo = 3.0/(500.0*np.pi)*Angulo\n",
    "    return tiempo\n",
    "\n",
    "#Posicion:\n",
    "def X(t,R=0.09):\n",
    "    Teta = 500*np.pi/3.0 # Velocidad angular en rad/seg\n",
    "    Pos = ( np.cos(Teta*t) + ( 2.5**2 - np.sin(Teta*t)**2 )**0.5 )*R\n",
    "    return Pos\n",
    "\n",
    "#Derivadas\n",
    "\n",
    "#Derivada de 2 orden para puntos medios\n",
    "def der_2_medio(y,i,h):\n",
    "    return ( y[i+1] + y[i-1] - 2*y[i] )/h**2.0\n",
    "\n",
    "#Derivada de 2 orden para puntos extremos\n",
    "def der_2_ext(y,i,h):\n",
    "    return ( y[i+2] - 2*y[i+1] + y[i] )/h**2.0"
   ]
  },
  {
   "cell_type": "code",
   "execution_count": 4,
   "metadata": {
    "collapsed": false
   },
   "outputs": [],
   "source": [
    "#Listas\n",
    "\n",
    "#Angulos desde 0 hasta 360 grados (un ciclo completo) (en radianes)\n",
    "Os = []                         \n",
    "for i in xrange(0,73):\n",
    "    Rad = np.pi/180.0 #En radianes\n",
    "    Os.append(5*Rad*i)\n",
    "Tetas = np.array(Os)\n",
    "\n",
    "#Tiempos y h\n",
    "Ts = T(Tetas)\n",
    "h = abs(Ts[1]-Ts[0])\n",
    "\n",
    "#Posiciones para cada tiempo\n",
    "Ps = X(Ts)\n",
    "#print len(Tetas),len(Ts),len(Ps)"
   ]
  },
  {
   "cell_type": "code",
   "execution_count": 5,
   "metadata": {
    "collapsed": false
   },
   "outputs": [],
   "source": [
    "#Calculo de la aceleracion\n",
    "\n",
    "A = []\n",
    "A.append(der_2_ext(Ps,0,h)) # Aceleracion inicial\n",
    "\n",
    "for i in xrange(1,len(Ts)-1):\n",
    "    Acel = der_2_medio(Ps,i,h)\n",
    "    A.append(Acel)\n",
    "#print \"Las aceleraciones para cada tiempo son: \", A"
   ]
  },
  {
   "cell_type": "code",
   "execution_count": 6,
   "metadata": {
    "collapsed": false
   },
   "outputs": [
    {
     "data": {
      "text/plain": [
       "<matplotlib.text.Text at 0x7f782edd17d0>"
      ]
     },
     "execution_count": 6,
     "metadata": {},
     "output_type": "execute_result"
    },
    {
     "data": {
      "image/png": "[encoded data removed]",
      "text/plain": [
       "<matplotlib.figure.Figure at 0x7f7830f30150>"
      ]
     },
     "metadata": {},
     "output_type": "display_data"
    }
   ],
   "source": [
    "#Grafico\n",
    "plt.plot(Ts[:len(Ts)-1],A)\n",
    "plt.title('A(t) Para un ciclo')\n",
    "plt.xlabel('T(s)')\n",
    "plt.ylabel('Aceleracion(m/s**2)')"
   ]
  },
  {
   "cell_type": "code",
   "execution_count": 7,
   "metadata": {
    "collapsed": false
   },
   "outputs": [
    {
     "data": {
      "text/plain": [
       "'\\nVemos entonces que durante medio ciclo la aceleracion aumenta hasta un valor y baja un poco pero luego repite\\neste comportamiento para el otro medio ciclo pero con signo (sentido) contrario\\n'"
      ]
     },
     "execution_count": 7,
     "metadata": {},
     "output_type": "execute_result"
    }
   ],
   "source": [
    "\"\"\"\n",
    "Vemos entonces que durante medio ciclo la aceleracion aumenta hasta un valor y baja un poco pero luego repite\n",
    "este comportamiento para el otro medio ciclo pero con signo (sentido) contrario\n",
    "\"\"\""
   ]
  },
  {
   "cell_type": "code",
   "execution_count": 8,
   "metadata": {
    "collapsed": true
   },
   "outputs": [],
   "source": [
    "# 2 Punto"
   ]
  },
  {
   "cell_type": "code",
   "execution_count": 140,
   "metadata": {
    "collapsed": false
   },
   "outputs": [],
   "source": [
    "#Matrix del sistema de ecuaciones y vector b (Ax=b)\n",
    "def Matrix(R,r):\n",
    "    M = np.matrix([[ 1.0,0.0,1.0,0.0,1.0,0.0,0.0,0.0,0.0,0.0,0.0,0.0,-1.0],\n",
    "                   [-1.0,1.0,0.0,0.0,0.0,0.0,0.0,-1.0,0.0,0.0,0.0,0.0,0.0],\n",
    "                   [0.0,-1.0,0.0,1.0,0.0,-1.0,0.0,0.0,0.0,0.0,0.0,0.0,0.0],\n",
    "                   [0.0,0.0,-1.0,-1.0,0.0,0.0,-1.0,0.0,0.0,0.0,0.0,0.0,0.0],\n",
    "                   [0.0,0.0,0.0,0.0,-1.0,0.0,0.0,0.0,1.0,0.0,0.0,1.0,0.0],\n",
    "                   [0.0,0.0,0.0,0.0,0.0,0.0,0.0,1.0,-1.0,0.0,1.0,0.0,0.0],\n",
    "                   [0.0,0.0,0.0,0.0,0.0,1.0,0.0,0.0,0.0,-1.0,-1.0,0.0,1.0],\n",
    "                   [-1.0,0.0,0.0,0.0,1.0,0.0,0.0,1.0,1.0,0.0,0.0,0.0,0.0],\n",
    "                   [0.0,1.0,0.0,0.0,0.0,-1.0,0.0,1.0,0.0,0.0,-1.0,0.0,0.0],\n",
    "                   [0.0,0.0,0.0,-1.0,0.0,-1.0,1.0,0.0,0.0,-1.0,0.0,0.0,0.0],\n",
    "                   [0.0,0.0,r/R,0.0,-1.0,0.0,-1.0,0.0,0.0,0.0,0.0,-1.0,0.0],\n",
    "                   [-1.0,-1.0,r/R,-1.0,0.0,0.0,0.0,0.0,0.0,0.0,0.0,0.0,0.0],\n",
    "                   [0.0,0.0,0.0,0.0,1.0,0.0,0.0,0.0,1.0,0.0,1.0,0.0,0.0]])\n",
    "    return M\n",
    "\n",
    "b = np.array([0.0,0.0,0.0,0.0,0.0,0.0,0.0,0.0,0.0,0.0,0.0,0.0,1])"
   ]
  },
  {
   "cell_type": "code",
   "execution_count": 155,
   "metadata": {
    "collapsed": false
   },
   "outputs": [],
   "source": [
    "#Matrices para varios r\n",
    "R = 1.0\n",
    "V = 1.0\n",
    "r = [0.0,0.1,0.2,0.3,0.4,0.5,0.6,0.7,0.8,0.9,1.0]\n",
    "\n",
    "A = []\n",
    "S = []\n",
    "x_13 = []\n",
    "I_13 = []\n",
    "R_eq = []\n",
    "\n",
    "#Aderiendo matrices A_i para cada r a el vector de matrices A\n",
    "for i in xrange(0,len(r)):\n",
    "    A_i = Matrix(R,r[i])\n",
    "    A_i = np.matrix(A_i)\n",
    "    A.append(A_i)\n",
    "\n",
    "#Soluciones\n",
    "for i in xrange(len(A)):\n",
    "    S_i = b.dot(A[i].I)\n",
    "    S.append(S_i)\n",
    "\n",
    "#Tomando la solucion para x_13 y convirtiendola en la respectiva I_13\n",
    "for i in xrange(len(S)):\n",
    "    XS = S[i][0,12]\n",
    "    IS = XS*V/R\n",
    "    x_13.append(XS)\n",
    "    I_13.append(IS)\n",
    "    R_eq.append(V/IS)"
   ]
  },
  {
   "cell_type": "code",
   "execution_count": null,
   "metadata": {
    "collapsed": false
   },
   "outputs": [],
   "source": []
  }
 ],
 "metadata": {
  "kernelspec": {
   "display_name": "Python 2",
   "language": "python",
   "name": "python2"
  },
  "language_info": {
   "codemirror_mode": {
    "name": "ipython",
    "version": 2
   },
   "file_extension": ".py",
   "mimetype": "text/x-python",
   "name": "python",
   "nbconvert_exporter": "python",
   "pygments_lexer": "ipython2",
   "version": "2.7.11"
  }
 },
 "nbformat": 4,
 "nbformat_minor": 0
}
