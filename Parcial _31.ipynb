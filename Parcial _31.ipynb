{
 "cells": [
  {
   "cell_type": "code",
   "execution_count": 5,
   "metadata": {
    "collapsed": false
   },
   "outputs": [],
   "source": [
    "import numpy as np\n",
    "import scipy as sp\n",
    "from scipy import linalg as lg\n",
    "from scipy import integrate\n",
    "from scipy.integrate import odeint\n",
    "import random\n",
    "import matplotlib.pyplot as plt\n",
    "from mpl_toolkits.mplot3d import Axes3D\n",
    "get_ipython().magic(u'matplotlib inline')"
   ]
  },
  {
   "cell_type": "code",
   "execution_count": 6,
   "metadata": {
    "collapsed": true
   },
   "outputs": [],
   "source": [
    "#Lanchester’s Combat models"
   ]
  },
  {
   "cell_type": "code",
   "execution_count": 7,
   "metadata": {
    "collapsed": true
   },
   "outputs": [],
   "source": [
    "#1."
   ]
  },
  {
   "cell_type": "code",
   "execution_count": 202,
   "metadata": {
    "collapsed": false
   },
   "outputs": [
    {
     "name": "stdout",
     "output_type": "stream",
     "text": [
      "b = [  1.83159466e-03   3.40805766e-03   3.72241341e-03   2.17931388e-05]\n",
      "n = [ 0.48772114  0.9885056   0.83872029  0.11339925]\n",
      "e = [ 0.97544227  1.9770112   1.67744057  0.2267985 ]\n",
      "a = [ 0.24386057  0.4942528   0.41936014  0.05669962]\n"
     ]
    },
    {
     "data": {
      "image/png": "[encoded data removed]",
      "text/plain": [
       "<matplotlib.figure.Figure at 0x7fcc7f5d3990>"
      ]
     },
     "metadata": {},
     "output_type": "display_data"
    }
   ],
   "source": [
    "#Ecuacion diferencial asumiendo que Japon pierde con x = 1\n",
    "#Los valores de n y b se consideran aleatorios\n",
    "\n",
    "#Ecuacion\n",
    "def L(ys,ts,b,n):\n",
    "    \n",
    "    #Coeficientes\n",
    "    a = 0.5*b\n",
    "    e = 2*n\n",
    "    \n",
    "    #Ecuaciones\n",
    "    dldt = np.zeros(len(ys))\n",
    "    dldt[0] = -a*ys[1] - e*ys[0]\n",
    "    dldt[1] = -b*ys[0] - n*ys[1]\n",
    "    \n",
    "    return dldt\n",
    "\n",
    "#Condiciones iniciales\n",
    "ts = np.linspace(0,100,1000)\n",
    "y0 = [23000.0,100000.0]\n",
    "\n",
    "#Almacenamiento de los b y n\n",
    "bs = []\n",
    "ns = []\n",
    "\n",
    "#Calculo de los b y n\n",
    "for i in xrange(0,5):\n",
    "    \n",
    "    #Generacion aleatoria de los b y n\n",
    "    random.seed()\n",
    "    b = 0.01*random.random()\n",
    "    n = random.random()\n",
    "    \n",
    "    #Solucion a la ecuacion diferencial con Odeint\n",
    "    Sol = integrate.odeint(L,y0,ts,args=(b,n))\n",
    "    \n",
    "    #Condicion para que b y n permitan ganar en un rango de 2 a 20 Ut\n",
    "    if (Sol[:,1][i])<76700.0 or Sol[:,0][i]<0.0 :break\n",
    "    else:\n",
    "        bs.append(b)\n",
    "        ns.append(n)  \n",
    "        \n",
    "        ext=20\n",
    "        #Grafico de la solucion\n",
    "        plt.subplot(1,2,1)\n",
    "        plt.plot(ts,Sol[:,0])\n",
    "        plt.title('Japon')\n",
    "        plt.xlabel('Tiempo (Ut)')\n",
    "        plt.ylabel('Efectivos')\n",
    "        plt.xlim(0,ext)\n",
    "    \n",
    "        plt.subplot(1,2,2)\n",
    "        plt.plot(ts,Sol[:,1])\n",
    "        plt.title('U.S')\n",
    "        plt.xlabel('Tiempo (Ut)')\n",
    "        plt.ylabel('Efectivos')\n",
    "        plt.xlim(0,ext)\n",
    "               \n",
    "bs = np.array(bs)\n",
    "ns = np.array(ns)\n",
    "\n",
    "print 'b =',bs\n",
    "print 'n =',ns\n",
    "print 'e =',2*ns\n",
    "print 'a =',0.5*ns"
   ]
  },
  {
   "cell_type": "code",
   "execution_count": 93,
   "metadata": {
    "collapsed": false
   },
   "outputs": [
    {
     "data": {
      "text/plain": [
       "'\\nEn el grafico se muesta el comportamiento de la armada estadounidense\\npara diferentes valores de b y n cuando se supone que estos ganan \\n(se supone que la armada japonesa pierde cuando queda con un solo efectivo)\\nLos valores de b y n se dan de manera aleatoria y para aquellos que hagan \\nel numero de efectivos mayor a 76700 efectivos se clasifican para dar una\\nvictoria entre 2 y 20 unidades de tiempo.\\n'"
      ]
     },
     "execution_count": 93,
     "metadata": {},
     "output_type": "execute_result"
    }
   ],
   "source": [
    "\"\"\"\n",
    "En el grafico se muesta el comportamiento de la armada estadounidense\n",
    "para diferentes valores de b y n cuando se supone que estos ganan \n",
    "(se supone que la armada japonesa pierde cuando queda sin efectivos)\n",
    "Los valores de b y n se dan de manera aleatoria y para aquellos que hagan \n",
    "el numero de efectivos mayor a 76700 efectivos se clasifican para dar una\n",
    "victoria entre 2 y 20 unidades de tiempo.\n",
    "\"\"\""
   ]
  },
  {
   "cell_type": "code",
   "execution_count": 70,
   "metadata": {
    "collapsed": true
   },
   "outputs": [],
   "source": [
    "#2."
   ]
  },
  {
   "cell_type": "code",
   "execution_count": 336,
   "metadata": {
    "collapsed": true
   },
   "outputs": [],
   "source": [
    "#RK4\n",
    "def RK4(f,y0,ts):\n",
    "    \n",
    "    #f es el conjunto de funciones acopladas y con argumentos de la forma f(y,t)\n",
    "    #donde y es una lista de condiciones iniciales\n",
    "\n",
    "    #Datos\n",
    "    h = abs(ts[1]-ts[0])\n",
    "    N = int(len(ts)/h)\n",
    "    print 'Numero de iteraciones:', N\n",
    "    \n",
    "    t0 = ts[0]\n",
    "    #y0 = np.array(y0)\n",
    "    \n",
    "    Sol = []\n",
    "    \n",
    "    for i in xrange(0,N):\n",
    "        #Ks:\n",
    "        k0 = f( y0             ,t0)\n",
    "        k1 = f( y0 + 0.5*k0*h  ,t0 + 0.5*h)\n",
    "        k2 = f( y0 + 0.5*k1*h  ,t0 + 0.5*h)\n",
    "        k3 = f( y0 + k2*h      ,t0 + h)\n",
    "        \n",
    "        #Solucion\n",
    "        y1 = y0 + h*(k0 + 2*k1 + 2*k2 + k3)/6.0\n",
    "        Sol.append(y1)\n",
    "        \n",
    "        y0 = y1\n",
    "        t0 = t0 + i*h\n",
    "\n",
    "    return Sol"
   ]
  },
  {
   "cell_type": "code",
   "execution_count": 337,
   "metadata": {
    "collapsed": true
   },
   "outputs": [],
   "source": [
    "#3."
   ]
  },
  {
   "cell_type": "code",
   "execution_count": 338,
   "metadata": {
    "collapsed": false
   },
   "outputs": [
    {
     "name": "stdout",
     "output_type": "stream",
     "text": [
      "Numero de iteraciones: 990\n"
     ]
    }
   ],
   "source": [
    "#Funciones a solucionar\n",
    "\n",
    "#Coeficientes\n",
    "b = bs[0]\n",
    "a = 0.5*b\n",
    "n = ns[0]\n",
    "e = 2*n\n",
    "\n",
    "def L(ys,ts):\n",
    "    \n",
    "    #Ecuaciones\n",
    "    dldt = np.zeros(len(ys))\n",
    "    dldt[0] = -a*ys[1] - e*ys[0]\n",
    "    dldt[1] = -b*ys[0] - n*ys[1]\n",
    "    \n",
    "    return dldt\n",
    "\n",
    "ts = np.linspace(0,10,100)\n",
    "y0 = [23000.0,100000.0]\n",
    "Sol = RK4(L,y0,ts)"
   ]
  },
  {
   "cell_type": "code",
   "execution_count": 339,
   "metadata": {
    "collapsed": true
   },
   "outputs": [],
   "source": [
    "#4."
   ]
  },
  {
   "cell_type": "code",
   "execution_count": 340,
   "metadata": {
    "collapsed": false
   },
   "outputs": [
    {
     "data": {
      "text/plain": [
       "<matplotlib.legend.Legend at 0x7fcc7df74110>"
      ]
     },
     "execution_count": 340,
     "metadata": {},
     "output_type": "execute_result"
    },
    {
     "data": {
      "image/png": "[encoded data removed]",
      "text/plain": [
       "<matplotlib.figure.Figure at 0x7fcc7deae210>"
      ]
     },
     "metadata": {},
     "output_type": "display_data"
    }
   ],
   "source": [
    "#Grafico\n",
    "\n",
    "#Seleccionando los elementos para el grafico\n",
    "J = []\n",
    "U = []\n",
    "for i in xrange(len(Sol)):\n",
    "    if Sol[i][0]>0.0 or Sol[i][1]>23300.:\n",
    "        J.append(Sol[i][0])\n",
    "        U.append(Sol[i][1])\n",
    "\n",
    "#Graficando\n",
    "ext = 20\n",
    "plt.plot(J,color=\"green\", linewidth=2, label=\"Japon\")\n",
    "plt.plot(U,color=\"blue\", linewidth=2, label=\"U.S\")\n",
    "plt.xlim(0,ext)\n",
    "plt.legend()"
   ]
  },
  {
   "cell_type": "code",
   "execution_count": 341,
   "metadata": {
    "collapsed": true
   },
   "outputs": [],
   "source": [
    "#5."
   ]
  },
  {
   "cell_type": "code",
   "execution_count": 342,
   "metadata": {
    "collapsed": true
   },
   "outputs": [],
   "source": [
    "#Funcion para el caso de una infiltracion de los japoneses.\n",
    "c=0.5*b\n",
    "def L2(ys,ts):\n",
    "    \n",
    "    #Ecuaciones\n",
    "    dldt = np.zeros(len(ys))\n",
    "    dldt[0] = -c*ys[1]*ys[1] - e*ys[0]\n",
    "    dldt[1] = -b*ys[0] - n*ys[1]\n",
    "    \n",
    "    return dldt"
   ]
  },
  {
   "cell_type": "code",
   "execution_count": 343,
   "metadata": {
    "collapsed": false
   },
   "outputs": [
    {
     "name": "stdout",
     "output_type": "stream",
     "text": [
      "Numero de iteraciones: 990\n"
     ]
    }
   ],
   "source": [
    "Sol2 = RK4(L2,y0,ts)\n",
    "Sol21 = integrate.odeint(L2,y0,ts)"
   ]
  },
  {
   "cell_type": "code",
   "execution_count": 344,
   "metadata": {
    "collapsed": false
   },
   "outputs": [],
   "source": [
    "J2 = []\n",
    "for i in xrange(len(Sol2)):\n",
    "    J2.append(Sol2[i][0])"
   ]
  },
  {
   "cell_type": "code",
   "execution_count": 345,
   "metadata": {
    "collapsed": false
   },
   "outputs": [
    {
     "data": {
      "text/plain": [
       "[<matplotlib.lines.Line2D at 0x7fcc7dce38d0>]"
      ]
     },
     "execution_count": 345,
     "metadata": {},
     "output_type": "execute_result"
    },
    {
     "data": {
      "image/png": "[encoded data removed]",
      "text/plain": [
       "<matplotlib.figure.Figure at 0x7fcc7e12a250>"
      ]
     },
     "metadata": {},
     "output_type": "display_data"
    }
   ],
   "source": [
    "plt.plot(J2)"
   ]
  },
  {
   "cell_type": "code",
   "execution_count": null,
   "metadata": {
    "collapsed": true
   },
   "outputs": [],
   "source": []
  }
 ],
 "metadata": {
  "kernelspec": {
   "display_name": "Python 2",
   "language": "python",
   "name": "python2"
  },
  "language_info": {
   "codemirror_mode": {
    "name": "ipython",
    "version": 2
   },
   "file_extension": ".py",
   "mimetype": "text/x-python",
   "name": "python",
   "nbconvert_exporter": "python",
   "pygments_lexer": "ipython2",
   "version": "2.7.11"
  }
 },
 "nbformat": 4,
 "nbformat_minor": 0
}
